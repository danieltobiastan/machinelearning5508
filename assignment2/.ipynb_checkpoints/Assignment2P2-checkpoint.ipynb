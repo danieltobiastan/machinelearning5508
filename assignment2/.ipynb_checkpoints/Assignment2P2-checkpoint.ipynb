{
 "cells": [
  {
   "cell_type": "code",
   "execution_count": 101,
   "id": "e6a41812",
   "metadata": {},
   "outputs": [],
   "source": [
    "# remember to remove this\n",
    "import sys\n",
    "import os\n",
    "import numpy as np\n",
    "import pandas as pd\n",
    "import seaborn as sns\n",
    "import matplotlib.pyplot as plt\n",
    "from sklearn.model_selection import train_test_split"
   ]
  },
  {
   "cell_type": "markdown",
   "id": "9b680a92",
   "metadata": {},
   "source": [
    "### Part II: Concrete Slump Test\n",
    "\n",
    "We aim to predict the 28-day Compressive Strength (MPA) value, using the train model on the other 7 feature variables."
   ]
  },
  {
   "cell_type": "markdown",
   "id": "e7df48c9",
   "metadata": {},
   "source": [
    "**Loading and Inspecting the Data**"
   ]
  },
  {
   "cell_type": "code",
   "execution_count": 7,
   "id": "19d272b8",
   "metadata": {},
   "outputs": [
    {
     "data": {
      "text/html": [
       "<div>\n",
       "<style scoped>\n",
       "    .dataframe tbody tr th:only-of-type {\n",
       "        vertical-align: middle;\n",
       "    }\n",
       "\n",
       "    .dataframe tbody tr th {\n",
       "        vertical-align: top;\n",
       "    }\n",
       "\n",
       "    .dataframe thead th {\n",
       "        text-align: right;\n",
       "    }\n",
       "</style>\n",
       "<table border=\"1\" class=\"dataframe\">\n",
       "  <thead>\n",
       "    <tr style=\"text-align: right;\">\n",
       "      <th></th>\n",
       "      <th>No</th>\n",
       "      <th>Cement</th>\n",
       "      <th>Slag</th>\n",
       "      <th>Fly ash</th>\n",
       "      <th>Water</th>\n",
       "      <th>SP</th>\n",
       "      <th>Coarse Aggr.</th>\n",
       "      <th>Fine Aggr.</th>\n",
       "      <th>SLUMP(cm)</th>\n",
       "      <th>FLOW(cm)</th>\n",
       "      <th>Compressive Strength (28-day)(Mpa)</th>\n",
       "    </tr>\n",
       "  </thead>\n",
       "  <tbody>\n",
       "    <tr>\n",
       "      <th>0</th>\n",
       "      <td>1</td>\n",
       "      <td>273.0</td>\n",
       "      <td>82.0</td>\n",
       "      <td>105.0</td>\n",
       "      <td>210.0</td>\n",
       "      <td>9.0</td>\n",
       "      <td>904.0</td>\n",
       "      <td>680.0</td>\n",
       "      <td>23.0</td>\n",
       "      <td>62.0</td>\n",
       "      <td>34.99</td>\n",
       "    </tr>\n",
       "    <tr>\n",
       "      <th>1</th>\n",
       "      <td>2</td>\n",
       "      <td>163.0</td>\n",
       "      <td>149.0</td>\n",
       "      <td>191.0</td>\n",
       "      <td>180.0</td>\n",
       "      <td>12.0</td>\n",
       "      <td>843.0</td>\n",
       "      <td>746.0</td>\n",
       "      <td>0.0</td>\n",
       "      <td>20.0</td>\n",
       "      <td>41.14</td>\n",
       "    </tr>\n",
       "    <tr>\n",
       "      <th>2</th>\n",
       "      <td>3</td>\n",
       "      <td>162.0</td>\n",
       "      <td>148.0</td>\n",
       "      <td>191.0</td>\n",
       "      <td>179.0</td>\n",
       "      <td>16.0</td>\n",
       "      <td>840.0</td>\n",
       "      <td>743.0</td>\n",
       "      <td>1.0</td>\n",
       "      <td>20.0</td>\n",
       "      <td>41.81</td>\n",
       "    </tr>\n",
       "    <tr>\n",
       "      <th>3</th>\n",
       "      <td>4</td>\n",
       "      <td>162.0</td>\n",
       "      <td>148.0</td>\n",
       "      <td>190.0</td>\n",
       "      <td>179.0</td>\n",
       "      <td>19.0</td>\n",
       "      <td>838.0</td>\n",
       "      <td>741.0</td>\n",
       "      <td>3.0</td>\n",
       "      <td>21.5</td>\n",
       "      <td>42.08</td>\n",
       "    </tr>\n",
       "    <tr>\n",
       "      <th>4</th>\n",
       "      <td>5</td>\n",
       "      <td>154.0</td>\n",
       "      <td>112.0</td>\n",
       "      <td>144.0</td>\n",
       "      <td>220.0</td>\n",
       "      <td>10.0</td>\n",
       "      <td>923.0</td>\n",
       "      <td>658.0</td>\n",
       "      <td>20.0</td>\n",
       "      <td>64.0</td>\n",
       "      <td>26.82</td>\n",
       "    </tr>\n",
       "    <tr>\n",
       "      <th>...</th>\n",
       "      <td>...</td>\n",
       "      <td>...</td>\n",
       "      <td>...</td>\n",
       "      <td>...</td>\n",
       "      <td>...</td>\n",
       "      <td>...</td>\n",
       "      <td>...</td>\n",
       "      <td>...</td>\n",
       "      <td>...</td>\n",
       "      <td>...</td>\n",
       "      <td>...</td>\n",
       "    </tr>\n",
       "    <tr>\n",
       "      <th>98</th>\n",
       "      <td>99</td>\n",
       "      <td>248.3</td>\n",
       "      <td>101.0</td>\n",
       "      <td>239.1</td>\n",
       "      <td>168.9</td>\n",
       "      <td>7.7</td>\n",
       "      <td>954.2</td>\n",
       "      <td>640.6</td>\n",
       "      <td>0.0</td>\n",
       "      <td>20.0</td>\n",
       "      <td>49.97</td>\n",
       "    </tr>\n",
       "    <tr>\n",
       "      <th>99</th>\n",
       "      <td>100</td>\n",
       "      <td>248.0</td>\n",
       "      <td>101.0</td>\n",
       "      <td>239.9</td>\n",
       "      <td>169.1</td>\n",
       "      <td>7.7</td>\n",
       "      <td>949.9</td>\n",
       "      <td>644.1</td>\n",
       "      <td>2.0</td>\n",
       "      <td>20.0</td>\n",
       "      <td>50.23</td>\n",
       "    </tr>\n",
       "    <tr>\n",
       "      <th>100</th>\n",
       "      <td>101</td>\n",
       "      <td>258.8</td>\n",
       "      <td>88.0</td>\n",
       "      <td>239.6</td>\n",
       "      <td>175.3</td>\n",
       "      <td>7.6</td>\n",
       "      <td>938.9</td>\n",
       "      <td>646.0</td>\n",
       "      <td>0.0</td>\n",
       "      <td>20.0</td>\n",
       "      <td>50.50</td>\n",
       "    </tr>\n",
       "    <tr>\n",
       "      <th>101</th>\n",
       "      <td>102</td>\n",
       "      <td>297.1</td>\n",
       "      <td>40.9</td>\n",
       "      <td>239.9</td>\n",
       "      <td>194.0</td>\n",
       "      <td>7.5</td>\n",
       "      <td>908.9</td>\n",
       "      <td>651.8</td>\n",
       "      <td>27.5</td>\n",
       "      <td>67.0</td>\n",
       "      <td>49.17</td>\n",
       "    </tr>\n",
       "    <tr>\n",
       "      <th>102</th>\n",
       "      <td>103</td>\n",
       "      <td>348.7</td>\n",
       "      <td>0.1</td>\n",
       "      <td>223.1</td>\n",
       "      <td>208.5</td>\n",
       "      <td>9.6</td>\n",
       "      <td>786.2</td>\n",
       "      <td>758.1</td>\n",
       "      <td>29.0</td>\n",
       "      <td>78.0</td>\n",
       "      <td>48.77</td>\n",
       "    </tr>\n",
       "  </tbody>\n",
       "</table>\n",
       "<p>103 rows × 11 columns</p>\n",
       "</div>"
      ],
      "text/plain": [
       "      No  Cement   Slag  Fly ash  Water    SP  Coarse Aggr.  Fine Aggr.  \\\n",
       "0      1   273.0   82.0    105.0  210.0   9.0         904.0       680.0   \n",
       "1      2   163.0  149.0    191.0  180.0  12.0         843.0       746.0   \n",
       "2      3   162.0  148.0    191.0  179.0  16.0         840.0       743.0   \n",
       "3      4   162.0  148.0    190.0  179.0  19.0         838.0       741.0   \n",
       "4      5   154.0  112.0    144.0  220.0  10.0         923.0       658.0   \n",
       "..   ...     ...    ...      ...    ...   ...           ...         ...   \n",
       "98    99   248.3  101.0    239.1  168.9   7.7         954.2       640.6   \n",
       "99   100   248.0  101.0    239.9  169.1   7.7         949.9       644.1   \n",
       "100  101   258.8   88.0    239.6  175.3   7.6         938.9       646.0   \n",
       "101  102   297.1   40.9    239.9  194.0   7.5         908.9       651.8   \n",
       "102  103   348.7    0.1    223.1  208.5   9.6         786.2       758.1   \n",
       "\n",
       "     SLUMP(cm)  FLOW(cm)  Compressive Strength (28-day)(Mpa)  \n",
       "0         23.0      62.0                               34.99  \n",
       "1          0.0      20.0                               41.14  \n",
       "2          1.0      20.0                               41.81  \n",
       "3          3.0      21.5                               42.08  \n",
       "4         20.0      64.0                               26.82  \n",
       "..         ...       ...                                 ...  \n",
       "98         0.0      20.0                               49.97  \n",
       "99         2.0      20.0                               50.23  \n",
       "100        0.0      20.0                               50.50  \n",
       "101       27.5      67.0                               49.17  \n",
       "102       29.0      78.0                               48.77  \n",
       "\n",
       "[103 rows x 11 columns]"
      ]
     },
     "execution_count": 7,
     "metadata": {},
     "output_type": "execute_result"
    }
   ],
   "source": [
    "# remember to change to the same directory\n",
    "slump_data = pd.read_csv(\"../datasets/slump_test.data\")\n",
    "slump_data"
   ]
  },
  {
   "cell_type": "code",
   "execution_count": 61,
   "id": "524a7865",
   "metadata": {},
   "outputs": [
    {
     "data": {
      "text/html": [
       "<div>\n",
       "<style scoped>\n",
       "    .dataframe tbody tr th:only-of-type {\n",
       "        vertical-align: middle;\n",
       "    }\n",
       "\n",
       "    .dataframe tbody tr th {\n",
       "        vertical-align: top;\n",
       "    }\n",
       "\n",
       "    .dataframe thead th {\n",
       "        text-align: right;\n",
       "    }\n",
       "</style>\n",
       "<table border=\"1\" class=\"dataframe\">\n",
       "  <thead>\n",
       "    <tr style=\"text-align: right;\">\n",
       "      <th></th>\n",
       "      <th>No</th>\n",
       "      <th>Cement</th>\n",
       "      <th>Slag</th>\n",
       "      <th>Fly ash</th>\n",
       "      <th>Water</th>\n",
       "      <th>SP</th>\n",
       "      <th>Coarse Aggr.</th>\n",
       "      <th>Fine Aggr.</th>\n",
       "      <th>SLUMP(cm)</th>\n",
       "      <th>FLOW(cm)</th>\n",
       "      <th>Compressive Strength (28-day)(Mpa)</th>\n",
       "    </tr>\n",
       "  </thead>\n",
       "  <tbody>\n",
       "    <tr>\n",
       "      <th>null_count</th>\n",
       "      <td>0</td>\n",
       "      <td>0</td>\n",
       "      <td>0</td>\n",
       "      <td>0</td>\n",
       "      <td>0</td>\n",
       "      <td>0</td>\n",
       "      <td>0</td>\n",
       "      <td>0</td>\n",
       "      <td>0</td>\n",
       "      <td>0</td>\n",
       "      <td>0</td>\n",
       "    </tr>\n",
       "    <tr>\n",
       "      <th>na_counts</th>\n",
       "      <td>0</td>\n",
       "      <td>0</td>\n",
       "      <td>0</td>\n",
       "      <td>0</td>\n",
       "      <td>0</td>\n",
       "      <td>0</td>\n",
       "      <td>0</td>\n",
       "      <td>0</td>\n",
       "      <td>0</td>\n",
       "      <td>0</td>\n",
       "      <td>0</td>\n",
       "    </tr>\n",
       "  </tbody>\n",
       "</table>\n",
       "</div>"
      ],
      "text/plain": [
       "            No  Cement  Slag  Fly ash  Water  SP  Coarse Aggr.  Fine Aggr.  \\\n",
       "null_count   0       0     0        0      0   0             0           0   \n",
       "na_counts    0       0     0        0      0   0             0           0   \n",
       "\n",
       "            SLUMP(cm)  FLOW(cm)  Compressive Strength (28-day)(Mpa)  \n",
       "null_count          0         0                                   0  \n",
       "na_counts           0         0                                   0  "
      ]
     },
     "execution_count": 61,
     "metadata": {},
     "output_type": "execute_result"
    }
   ],
   "source": [
    "# Check for any missing values in the dataset\n",
    "null_count = np.array(slump_data.isnull().sum())\n",
    "na_counts = np.array(slump_data.isna().sum())\n",
    "pd.DataFrame(np.vstack((null_count, na_counts)), columns=slump_data.columns, index=['null_count','na_counts'])"
   ]
  },
  {
   "cell_type": "markdown",
   "id": "6ba675bd",
   "metadata": {},
   "source": [
    "Looks like our data is clean, with no NA or null values, so no need to impute or remove any rows. However, we do want to partition the dataset to include only the columns that are relevant to us. The columns to drop are:\n",
    "- No (Index)\n",
    "- SLUMP\n",
    "- FLOW\n",
    "\n",
    "A visual inspection of the dataset allows us to identify what index the columns are and remove them"
   ]
  },
  {
   "cell_type": "code",
   "execution_count": 62,
   "id": "dc115df9",
   "metadata": {},
   "outputs": [],
   "source": [
    "# Take the first 7, excluding the index and the last dependent variable\n",
    "def data_selection(dataset):\n",
    "    X = dataset.iloc[:,1:8]\n",
    "    y = dataset.iloc[:,-1]\n",
    "    return(X,y)\n",
    "\n",
    "X,y = data_selection(slump_data)\n",
    "\n",
    "# Splitting the dataset into a training set and a test set\n",
    "X_train, X_test, y_train, y_test = train_test_split(X, y, test_size=0.2, random_state=5508)"
   ]
  },
  {
   "cell_type": "markdown",
   "id": "894b09a4",
   "metadata": {},
   "source": [
    "**Voting Regressor - Linear SVM Regressor, LinReg, SGD Regressor**"
   ]
  },
  {
   "cell_type": "markdown",
   "id": "6dd52f9b",
   "metadata": {},
   "source": [
    "Before we proceed, because we are using a SVM method, we require scaling on the data before proceeding to fit any regression models."
   ]
  },
  {
   "cell_type": "code",
   "execution_count": 206,
   "id": "9e497e52",
   "metadata": {},
   "outputs": [],
   "source": [
    "from sklearn.preprocessing import StandardScaler\n",
    "from sklearn.pipeline import Pipeline\n",
    "std_scaler = StandardScaler() # call the scaler function\n",
    "\n",
    "num_pipeline = Pipeline([ # pipeline for scaling the data\n",
    "    ('std_scaler', StandardScaler())\n",
    "])"
   ]
  },
  {
   "cell_type": "code",
   "execution_count": 218,
   "id": "f5d5744a",
   "metadata": {},
   "outputs": [],
   "source": [
    "# scale the data first\n",
    "X_train_scaled = pd.DataFrame(num_pipeline.fit_transform(X_train), columns=X_train.columns)\n",
    "X_test_scaled = pd.DataFrame(num_pipeline.fit_transform(X_test), columns=X_train.columns)"
   ]
  },
  {
   "cell_type": "code",
   "execution_count": 219,
   "id": "aa848706",
   "metadata": {},
   "outputs": [],
   "source": [
    "from sklearn.ensemble import VotingRegressor\n",
    "from sklearn.svm import LinearSVR\n",
    "from sklearn.linear_model import LinearRegression, SGDRegressor\n",
    "from sklearn.metrics import mean_squared_error\n",
    "\n",
    "# call the regression models, then put them into the voting regressor\n",
    "lin_svr = LinearSVR()\n",
    "lin_reg = LinearRegression()\n",
    "sgd_reg = SGDRegressor()\n",
    "\n",
    "voting_reg = VotingRegressor(estimators=[\n",
    "    ('Linear SVM', LinearSVR()),\n",
    "    ('Linear Regression', LinearRegression()),\n",
    "    ('SGD Regression', SGDRegressor())\n",
    "])"
   ]
  },
  {
   "cell_type": "code",
   "execution_count": 220,
   "id": "f3f94a63",
   "metadata": {},
   "outputs": [
    {
     "name": "stdout",
     "output_type": "stream",
     "text": [
      "LinearSVR - RMSE train: 2.8571086002708794, RMSE test: 11.153238691591847\n",
      "LinearRegression - RMSE train: 2.3520029517363343, RMSE test: 12.491734717009535\n",
      "SGDRegressor - RMSE train: 2.3550422325832954, RMSE test: 12.162783635266745\n",
      "VotingRegressor - RMSE train: 2.4157808997571326, RMSE test: 11.292696627183865\n"
     ]
    }
   ],
   "source": [
    "np.random.seed(5508)\n",
    "# train the models, get both train and test RMSE\n",
    "for reg in (lin_svr, lin_reg, sgd_reg, voting_reg):\n",
    "    reg.fit(X_train_scaled, y_train)\n",
    "    y_pred_train = reg.predict(X_train_scaled)\n",
    "    y_pred_test = reg.predict(X_test_scaled)\n",
    "    rmse_train = mean_squared_error(y_train, y_pred_train, squared=False)\n",
    "    rmse_test = mean_squared_error(y_test, y_pred_test)\n",
    "    print(f'{reg.__class__.__name__} - RMSE train: {rmse_train}, RMSE test: {rmse_test}')"
   ]
  },
  {
   "cell_type": "markdown",
   "id": "957a6298",
   "metadata": {},
   "source": [
    "RMSE between the 4 regression models, show not much difference between them. The voting regressor, which is supposed to provide a more accurate prediciton, which takes the average of the 3 models, which improves the generalisability of the models. However, we can see that the RMSE of the Voting Regressor is not the best out of the 4, with the Linear SVR having a lower score."
   ]
  },
  {
   "cell_type": "code",
   "execution_count": 221,
   "id": "bc8e094c",
   "metadata": {},
   "outputs": [],
   "source": [
    "# get predicted values for all 4 models\n",
    "pred_lin_svr = lin_svr.predict(X_test_scaled)\n",
    "pred_lin_reg = lin_reg.predict(X_test_scaled)\n",
    "pred_sgd_reg = sgd_reg.predict(X_test_scaled)\n",
    "pred_voting_reg = voting_reg.predict(X_test_scaled)"
   ]
  },
  {
   "cell_type": "code",
   "execution_count": 224,
   "id": "4e94b50e",
   "metadata": {},
   "outputs": [
    {
     "data": {
      "image/png": "[encoded data removed]",
      "text/plain": [
       "<Figure size 720x720 with 4 Axes>"
      ]
     },
     "metadata": {
      "needs_background": "light"
     },
     "output_type": "display_data"
    }
   ],
   "source": [
    "# Create subplots for all 4 regression models\n",
    "fig, axs = plt.subplots(2, 2, figsize=(10, 10))\n",
    "axs[0, 0].scatter(y_test, pred_lin_reg)\n",
    "axs[0, 1].scatter(y_test, pred_lin_svr)\n",
    "axs[1, 0].scatter(y_test, pred_sgd_reg)\n",
    "axs[1, 1].scatter(y_test, pred_voting_reg)\n",
    "\n",
    "for i in range(axs.shape[0]):\n",
    "    for j in range(axs.shape[1]):\n",
    "        axs[i, j].plot([min(y_test), max(y_test)], [min(y_test), max(y_test)], 'g--')\n",
    "        axs[i, j].set_xlabel('Actual')\n",
    "        axs[i, j].set_ylabel('Predicted')\n",
    "\n",
    "axs[0, 0].set_title('LinearSVR')\n",
    "axs[0, 1].set_title('LinearRegression')\n",
    "axs[1, 0].set_title('SGDRegressor')\n",
    "axs[1, 1].set_title('VotingRegressor')\n",
    "\n",
    "fig.suptitle('Actual vs. Predicted (MPA)',fontsize=20)\n",
    "fig.tight_layout(rect=[0, 0, 1, 1])"
   ]
  },
  {
   "cell_type": "markdown",
   "id": "5539061b",
   "metadata": {},
   "source": [
    "Looking at the 4 plots above, we can see that the 4 models are quite similar in terms of deviations from the perfect line, but perhaps we can visualise this better by putting them all into a single plot and color coding them."
   ]
  },
  {
   "cell_type": "code",
   "execution_count": 225,
   "id": "009fcbfc",
   "metadata": {},
   "outputs": [
    {
     "data": {
      "image/png": "[encoded data removed]",
      "text/plain": [
       "<Figure size 792x576 with 1 Axes>"
      ]
     },
     "metadata": {
      "needs_background": "light"
     },
     "output_type": "display_data"
    }
   ],
   "source": [
    "# color coded predicted vs actual\n",
    "plt.figure(figsize=(11,8))\n",
    "plt.scatter(y_test, pred_lin_svr, label=\"LinearSVR\")\n",
    "plt.scatter(y_test, pred_lin_reg, label=\"LinearReg\")\n",
    "plt.scatter(y_test, pred_sgd_reg, label=\"SGDReg\")\n",
    "plt.scatter(y_test, pred_voting_reg, label=\"VotingReg\")\n",
    "plt.plot([min(y_test), max(y_test)], [min(y_test), max(y_test)], 'g--')\n",
    "plt.legend(loc=\"lower right\")\n",
    "plt.xlabel('Actual')\n",
    "plt.ylabel('Predicted')\n",
    "plt.title('Predicted vs. Actual MPA for All Models')\n",
    "plt.show()"
   ]
  },
  {
   "cell_type": "markdown",
   "id": "41d8b36a",
   "metadata": {},
   "source": [
    "We can observe that all 4 models, looking at the predicted vs actual plots, as well as the test RMSE from above, generally all perform quite close to each other. The plot above shows us that the variation between the predicted scores for each of the instances do not vary greatly, as suspected in the previous plot.\n",
    "\n",
    "The green diagonal 45 degree dotted line indicates a perfect prediction for any points that fall on that line, and it seems like the models could be improved futher to reduce the error between the actual and predicted values. "
   ]
  },
  {
   "cell_type": "markdown",
   "id": "cd16c795",
   "metadata": {},
   "source": [
    "**Voting Regressor II - Tuned Base Estimators**"
   ]
  },
  {
   "cell_type": "code",
   "execution_count": 245,
   "id": "2314895c",
   "metadata": {},
   "outputs": [
    {
     "data": {
      "text/plain": [
       "({'C': 3.400000000000002, 'epsilon': 0}, 0.8506246387074098)"
      ]
     },
     "execution_count": 245,
     "metadata": {},
     "output_type": "execute_result"
    }
   ],
   "source": [
    "from sklearn.model_selection import GridSearchCV\n",
    "\n",
    "# define the paramters to be searched for the 3 models\n",
    "grid_params_SVR = {'epsilon':np.arange(0,2,1),\n",
    "               'C':np.arange(1.0,4,0.05)} \n",
    "# Linear Regression uses OLS so no hyperparameters\n",
    "grid_params_SGR = {'alpha':np.arange(0.00001,,1),\n",
    "               'C':np.arange(1.0,4,0.05)} \n",
    "\n",
    "# default values for all the hyperparams\n",
    "lin_svr = LinearSVR(random_state=5508)\n",
    "grid_search = GridSearchCV(lin_svr, grid_params_SVR, cv=3)\n",
    "grid_search.fit(X_train_scaled, y_train)\n",
    "best_params = grid_search.best_params_\n",
    "best_score = grid_search.best_score_\n",
    "best_params, best_score"
   ]
  }
 ],
 "metadata": {
  "kernelspec": {
   "display_name": "Python 3 (ipykernel)",
   "language": "python",
   "name": "python3"
  },
  "language_info": {
   "codemirror_mode": {
    "name": "ipython",
    "version": 3
   },
   "file_extension": ".py",
   "mimetype": "text/x-python",
   "name": "python",
   "nbconvert_exporter": "python",
   "pygments_lexer": "ipython3",
   "version": "3.9.7"
  }
 },
 "nbformat": 4,
 "nbformat_minor": 5
}
