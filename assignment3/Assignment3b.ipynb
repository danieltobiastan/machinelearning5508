{
 "cells": [
  {
   "cell_type": "code",
   "execution_count": 2,
   "metadata": {},
   "outputs": [],
   "source": [
    "import numpy as np\n",
    "import pandas as pd\n",
    "import matplotlib.pyplot as plt\n",
    "import threadpoolctl"
   ]
  },
  {
   "attachments": {},
   "cell_type": "markdown",
   "metadata": {},
   "source": [
    "## Part II: Airline Safety Records\n",
    "\n",
    "In this section of the assignment, we analyse the airline safety dataset. The premise of the dataset is about people's reactions to high profile airline accidents - and why they would avoid travelling with certain particular airlines. Hence, we will use the dataset to investigate which airlines are similar based on their past safety records.\n",
    "\n",
    "The main modelling that we will do here is using K-means clustering. Given that the dataset does not have a target variable, this is an unsupervised learning problem. We will use the K-means algorithm to cluster the airlines based on their safety records. We will then use the clusters to identify which airlines are similar to each other.\n",
    "\n",
    "**Loading in the Dataset**"
   ]
  },
  {
   "cell_type": "code",
   "execution_count": 3,
   "metadata": {},
   "outputs": [
    {
     "data": {
      "text/html": [
       "<div>\n",
       "<style scoped>\n",
       "    .dataframe tbody tr th:only-of-type {\n",
       "        vertical-align: middle;\n",
       "    }\n",
       "\n",
       "    .dataframe tbody tr th {\n",
       "        vertical-align: top;\n",
       "    }\n",
       "\n",
       "    .dataframe thead th {\n",
       "        text-align: right;\n",
       "    }\n",
       "</style>\n",
       "<table border=\"1\" class=\"dataframe\">\n",
       "  <thead>\n",
       "    <tr style=\"text-align: right;\">\n",
       "      <th></th>\n",
       "      <th>airline</th>\n",
       "      <th>avail_seat_km_per_week</th>\n",
       "      <th>incidents_85_99</th>\n",
       "      <th>fatal_accidents_85_99</th>\n",
       "      <th>fatalities_85_99</th>\n",
       "      <th>incidents_00_14</th>\n",
       "      <th>fatal_accidents_00_14</th>\n",
       "      <th>fatalities_00_14</th>\n",
       "    </tr>\n",
       "  </thead>\n",
       "  <tbody>\n",
       "    <tr>\n",
       "      <th>0</th>\n",
       "      <td>Aer Lingus</td>\n",
       "      <td>320906734</td>\n",
       "      <td>2</td>\n",
       "      <td>0</td>\n",
       "      <td>0</td>\n",
       "      <td>0</td>\n",
       "      <td>0</td>\n",
       "      <td>0</td>\n",
       "    </tr>\n",
       "    <tr>\n",
       "      <th>1</th>\n",
       "      <td>Aeroflot*</td>\n",
       "      <td>1197672318</td>\n",
       "      <td>76</td>\n",
       "      <td>14</td>\n",
       "      <td>128</td>\n",
       "      <td>6</td>\n",
       "      <td>1</td>\n",
       "      <td>88</td>\n",
       "    </tr>\n",
       "    <tr>\n",
       "      <th>2</th>\n",
       "      <td>Aerolineas Argentinas</td>\n",
       "      <td>385803648</td>\n",
       "      <td>6</td>\n",
       "      <td>0</td>\n",
       "      <td>0</td>\n",
       "      <td>1</td>\n",
       "      <td>0</td>\n",
       "      <td>0</td>\n",
       "    </tr>\n",
       "    <tr>\n",
       "      <th>3</th>\n",
       "      <td>Aeromexico*</td>\n",
       "      <td>596871813</td>\n",
       "      <td>3</td>\n",
       "      <td>1</td>\n",
       "      <td>64</td>\n",
       "      <td>5</td>\n",
       "      <td>0</td>\n",
       "      <td>0</td>\n",
       "    </tr>\n",
       "    <tr>\n",
       "      <th>4</th>\n",
       "      <td>Air Canada</td>\n",
       "      <td>1865253802</td>\n",
       "      <td>2</td>\n",
       "      <td>0</td>\n",
       "      <td>0</td>\n",
       "      <td>2</td>\n",
       "      <td>0</td>\n",
       "      <td>0</td>\n",
       "    </tr>\n",
       "  </tbody>\n",
       "</table>\n",
       "</div>"
      ],
      "text/plain": [
       "                 airline  avail_seat_km_per_week  incidents_85_99  \\\n",
       "0             Aer Lingus               320906734                2   \n",
       "1              Aeroflot*              1197672318               76   \n",
       "2  Aerolineas Argentinas               385803648                6   \n",
       "3            Aeromexico*               596871813                3   \n",
       "4             Air Canada              1865253802                2   \n",
       "\n",
       "   fatal_accidents_85_99  fatalities_85_99  incidents_00_14  \\\n",
       "0                      0                 0                0   \n",
       "1                     14               128                6   \n",
       "2                      0                 0                1   \n",
       "3                      1                64                5   \n",
       "4                      0                 0                2   \n",
       "\n",
       "   fatal_accidents_00_14  fatalities_00_14  \n",
       "0                      0                 0  \n",
       "1                      1                88  \n",
       "2                      0                 0  \n",
       "3                      0                 0  \n",
       "4                      0                 0  "
      ]
     },
     "execution_count": 3,
     "metadata": {},
     "output_type": "execute_result"
    }
   ],
   "source": [
    "# Load the data\n",
    "airline = pd.read_csv('../datasets/airline-safety.csv')\n",
    "airline.head(5)"
   ]
  },
  {
   "attachments": {},
   "cell_type": "markdown",
   "metadata": {},
   "source": [
    "The description of the features in the airline data is:\n",
    "- **airline** - the name of the airline (and regional subsidaries)\n",
    "- **avail_seat_km_per_week** - the number of available seat kilometers flown by the airline per week\n",
    "- **incidents_85_99** - the number of incidents that occured between 1985 and 1999\n",
    "- **fatal_accidents_85_99** - the number of fatal accidents that occured between 1985 and 1999\n",
    "- **fatalities_85_99** - the total number of fatalities that occured between 1985 and 1999\n",
    "- **incidents_00_14** - the number of incidents that occured between 2000 and 2014\n",
    "- **fatal_accidents_00_14** - the number of fatal accidents that occured between 2000 and 2014\n",
    "- **fatalities_00_14** - the total number of fatalities that occured between 2000 and 2014\n",
    "\n",
    "We can see that the data is somewhat broken down into 3 components:\n",
    "- The name of the airline and the number of available seat kilometers flown by the airline per week\n",
    "- The number of incidents, fatal accidents and fatalities that occured between 1985 and 1999\n",
    "- The number of incidents, fatal accidents and fatalities that occured between 2000 and 2014\n",
    "\n",
    "The variables in the second and third components are closely related to each other. For example, the number of incidents that occured between is related to the number of fatal accidents. Therefore, fatal accidents cannot be more than the number of incidents. We might consider just using one of the variables in each component to avoid redundancy. However, we will keep all the variables for now."
   ]
  },
  {
   "cell_type": "code",
   "execution_count": 4,
   "metadata": {},
   "outputs": [
    {
     "data": {
      "text/html": [
       "<div>\n",
       "<style scoped>\n",
       "    .dataframe tbody tr th:only-of-type {\n",
       "        vertical-align: middle;\n",
       "    }\n",
       "\n",
       "    .dataframe tbody tr th {\n",
       "        vertical-align: top;\n",
       "    }\n",
       "\n",
       "    .dataframe thead th {\n",
       "        text-align: right;\n",
       "    }\n",
       "</style>\n",
       "<table border=\"1\" class=\"dataframe\">\n",
       "  <thead>\n",
       "    <tr style=\"text-align: right;\">\n",
       "      <th></th>\n",
       "      <th>airline</th>\n",
       "      <th>avail_seat_km_per_week</th>\n",
       "      <th>incidents_85_99</th>\n",
       "      <th>fatal_accidents_85_99</th>\n",
       "      <th>fatalities_85_99</th>\n",
       "      <th>incidents_00_14</th>\n",
       "      <th>fatal_accidents_00_14</th>\n",
       "      <th>fatalities_00_14</th>\n",
       "    </tr>\n",
       "  </thead>\n",
       "  <tbody>\n",
       "    <tr>\n",
       "      <th>0</th>\n",
       "      <td>Aer Lingus</td>\n",
       "      <td>320906734</td>\n",
       "      <td>2</td>\n",
       "      <td>0</td>\n",
       "      <td>0</td>\n",
       "      <td>0</td>\n",
       "      <td>0</td>\n",
       "      <td>0</td>\n",
       "    </tr>\n",
       "    <tr>\n",
       "      <th>1</th>\n",
       "      <td>Aeroflot*</td>\n",
       "      <td>1197672318</td>\n",
       "      <td>76</td>\n",
       "      <td>14</td>\n",
       "      <td>128</td>\n",
       "      <td>6</td>\n",
       "      <td>1</td>\n",
       "      <td>88</td>\n",
       "    </tr>\n",
       "    <tr>\n",
       "      <th>2</th>\n",
       "      <td>Aerolineas Argentinas</td>\n",
       "      <td>385803648</td>\n",
       "      <td>6</td>\n",
       "      <td>0</td>\n",
       "      <td>0</td>\n",
       "      <td>1</td>\n",
       "      <td>0</td>\n",
       "      <td>0</td>\n",
       "    </tr>\n",
       "    <tr>\n",
       "      <th>3</th>\n",
       "      <td>Aeromexico*</td>\n",
       "      <td>596871813</td>\n",
       "      <td>3</td>\n",
       "      <td>1</td>\n",
       "      <td>64</td>\n",
       "      <td>5</td>\n",
       "      <td>0</td>\n",
       "      <td>0</td>\n",
       "    </tr>\n",
       "    <tr>\n",
       "      <th>4</th>\n",
       "      <td>Air Canada</td>\n",
       "      <td>1865253802</td>\n",
       "      <td>2</td>\n",
       "      <td>0</td>\n",
       "      <td>0</td>\n",
       "      <td>2</td>\n",
       "      <td>0</td>\n",
       "      <td>0</td>\n",
       "    </tr>\n",
       "    <tr>\n",
       "      <th>5</th>\n",
       "      <td>Air France</td>\n",
       "      <td>3004002661</td>\n",
       "      <td>14</td>\n",
       "      <td>4</td>\n",
       "      <td>79</td>\n",
       "      <td>6</td>\n",
       "      <td>2</td>\n",
       "      <td>337</td>\n",
       "    </tr>\n",
       "    <tr>\n",
       "      <th>6</th>\n",
       "      <td>Air India*</td>\n",
       "      <td>869253552</td>\n",
       "      <td>2</td>\n",
       "      <td>1</td>\n",
       "      <td>329</td>\n",
       "      <td>4</td>\n",
       "      <td>1</td>\n",
       "      <td>158</td>\n",
       "    </tr>\n",
       "    <tr>\n",
       "      <th>7</th>\n",
       "      <td>Air New Zealand*</td>\n",
       "      <td>710174817</td>\n",
       "      <td>3</td>\n",
       "      <td>0</td>\n",
       "      <td>0</td>\n",
       "      <td>5</td>\n",
       "      <td>1</td>\n",
       "      <td>7</td>\n",
       "    </tr>\n",
       "    <tr>\n",
       "      <th>8</th>\n",
       "      <td>Alaska Airlines*</td>\n",
       "      <td>965346773</td>\n",
       "      <td>5</td>\n",
       "      <td>0</td>\n",
       "      <td>0</td>\n",
       "      <td>5</td>\n",
       "      <td>1</td>\n",
       "      <td>88</td>\n",
       "    </tr>\n",
       "    <tr>\n",
       "      <th>9</th>\n",
       "      <td>Alitalia</td>\n",
       "      <td>698012498</td>\n",
       "      <td>7</td>\n",
       "      <td>2</td>\n",
       "      <td>50</td>\n",
       "      <td>4</td>\n",
       "      <td>0</td>\n",
       "      <td>0</td>\n",
       "    </tr>\n",
       "  </tbody>\n",
       "</table>\n",
       "</div>"
      ],
      "text/plain": [
       "                 airline  avail_seat_km_per_week  incidents_85_99  \\\n",
       "0             Aer Lingus               320906734                2   \n",
       "1              Aeroflot*              1197672318               76   \n",
       "2  Aerolineas Argentinas               385803648                6   \n",
       "3            Aeromexico*               596871813                3   \n",
       "4             Air Canada              1865253802                2   \n",
       "5             Air France              3004002661               14   \n",
       "6             Air India*               869253552                2   \n",
       "7       Air New Zealand*               710174817                3   \n",
       "8       Alaska Airlines*               965346773                5   \n",
       "9               Alitalia               698012498                7   \n",
       "\n",
       "   fatal_accidents_85_99  fatalities_85_99  incidents_00_14  \\\n",
       "0                      0                 0                0   \n",
       "1                     14               128                6   \n",
       "2                      0                 0                1   \n",
       "3                      1                64                5   \n",
       "4                      0                 0                2   \n",
       "5                      4                79                6   \n",
       "6                      1               329                4   \n",
       "7                      0                 0                5   \n",
       "8                      0                 0                5   \n",
       "9                      2                50                4   \n",
       "\n",
       "   fatal_accidents_00_14  fatalities_00_14  \n",
       "0                      0                 0  \n",
       "1                      1                88  \n",
       "2                      0                 0  \n",
       "3                      0                 0  \n",
       "4                      0                 0  \n",
       "5                      2               337  \n",
       "6                      1               158  \n",
       "7                      1                 7  \n",
       "8                      1                88  \n",
       "9                      0                 0  "
      ]
     },
     "execution_count": 4,
     "metadata": {},
     "output_type": "execute_result"
    }
   ],
   "source": [
    "airline.head(10)"
   ]
  },
  {
   "attachments": {},
   "cell_type": "markdown",
   "metadata": {},
   "source": [
    "Before we analyse the data, we will load in the dataset and do some basic data cleaning. It is good practice once again to check if there are any missing or invalid data in the dataset. \n",
    "\n",
    "More importantly, as we have looked at the dataset, we can see that the variable avail_seat_km_per_week is a extremely large in comparison to the other variables. We can either use a different metric to scale down the variable, or perform scaling on the dataset."
   ]
  },
  {
   "cell_type": "code",
   "execution_count": 5,
   "metadata": {},
   "outputs": [
    {
     "data": {
      "text/html": [
       "<div>\n",
       "<style scoped>\n",
       "    .dataframe tbody tr th:only-of-type {\n",
       "        vertical-align: middle;\n",
       "    }\n",
       "\n",
       "    .dataframe tbody tr th {\n",
       "        vertical-align: top;\n",
       "    }\n",
       "\n",
       "    .dataframe thead th {\n",
       "        text-align: right;\n",
       "    }\n",
       "</style>\n",
       "<table border=\"1\" class=\"dataframe\">\n",
       "  <thead>\n",
       "    <tr style=\"text-align: right;\">\n",
       "      <th></th>\n",
       "      <th>airline</th>\n",
       "      <th>avail_seat_km_per_week</th>\n",
       "      <th>incidents_85_99</th>\n",
       "      <th>fatal_accidents_85_99</th>\n",
       "      <th>fatalities_85_99</th>\n",
       "      <th>incidents_00_14</th>\n",
       "      <th>fatal_accidents_00_14</th>\n",
       "      <th>fatalities_00_14</th>\n",
       "    </tr>\n",
       "  </thead>\n",
       "  <tbody>\n",
       "    <tr>\n",
       "      <th>null_count</th>\n",
       "      <td>0</td>\n",
       "      <td>0</td>\n",
       "      <td>0</td>\n",
       "      <td>0</td>\n",
       "      <td>0</td>\n",
       "      <td>0</td>\n",
       "      <td>0</td>\n",
       "      <td>0</td>\n",
       "    </tr>\n",
       "    <tr>\n",
       "      <th>na_counts</th>\n",
       "      <td>0</td>\n",
       "      <td>0</td>\n",
       "      <td>0</td>\n",
       "      <td>0</td>\n",
       "      <td>0</td>\n",
       "      <td>0</td>\n",
       "      <td>0</td>\n",
       "      <td>0</td>\n",
       "    </tr>\n",
       "  </tbody>\n",
       "</table>\n",
       "</div>"
      ],
      "text/plain": [
       "            airline  avail_seat_km_per_week  incidents_85_99  \\\n",
       "null_count        0                       0                0   \n",
       "na_counts         0                       0                0   \n",
       "\n",
       "            fatal_accidents_85_99  fatalities_85_99  incidents_00_14  \\\n",
       "null_count                      0                 0                0   \n",
       "na_counts                       0                 0                0   \n",
       "\n",
       "            fatal_accidents_00_14  fatalities_00_14  \n",
       "null_count                      0                 0  \n",
       "na_counts                       0                 0  "
      ]
     },
     "execution_count": 5,
     "metadata": {},
     "output_type": "execute_result"
    }
   ],
   "source": [
    "# Check for missing values\n",
    "null_count = np.array(airline.isnull().sum())\n",
    "na_counts = np.array(airline.isna().sum())\n",
    "pd.DataFrame(np.vstack((null_count, na_counts)), columns=airline.columns, index=['null_count','na_counts'])"
   ]
  },
  {
   "cell_type": "code",
   "execution_count": 6,
   "metadata": {},
   "outputs": [],
   "source": [
    "# Before scaling the data, we need to remove the 'airline' column and store it first\n",
    "airline_name = airline['airline']\n",
    "airline = airline.drop('airline', axis=1)\n",
    "\n",
    "# Scaling the data using StandardScaler\n",
    "from sklearn.preprocessing import StandardScaler\n",
    "scaler = StandardScaler()\n",
    "airline_scaled = pd.DataFrame(scaler.fit_transform(airline), columns=airline.columns)"
   ]
  },
  {
   "cell_type": "code",
   "execution_count": 7,
   "metadata": {},
   "outputs": [
    {
     "data": {
      "text/html": [
       "<div>\n",
       "<style scoped>\n",
       "    .dataframe tbody tr th:only-of-type {\n",
       "        vertical-align: middle;\n",
       "    }\n",
       "\n",
       "    .dataframe tbody tr th {\n",
       "        vertical-align: top;\n",
       "    }\n",
       "\n",
       "    .dataframe thead th {\n",
       "        text-align: right;\n",
       "    }\n",
       "</style>\n",
       "<table border=\"1\" class=\"dataframe\">\n",
       "  <thead>\n",
       "    <tr style=\"text-align: right;\">\n",
       "      <th></th>\n",
       "      <th>avail_seat_km_per_week</th>\n",
       "      <th>incidents_85_99</th>\n",
       "      <th>fatal_accidents_85_99</th>\n",
       "      <th>fatalities_85_99</th>\n",
       "      <th>incidents_00_14</th>\n",
       "      <th>fatal_accidents_00_14</th>\n",
       "      <th>fatalities_00_14</th>\n",
       "    </tr>\n",
       "  </thead>\n",
       "  <tbody>\n",
       "    <tr>\n",
       "      <th>0</th>\n",
       "      <td>-0.732498</td>\n",
       "      <td>-0.473505</td>\n",
       "      <td>-0.768345</td>\n",
       "      <td>-0.773244</td>\n",
       "      <td>-0.915809</td>\n",
       "      <td>-0.776414</td>\n",
       "      <td>-0.503179</td>\n",
       "    </tr>\n",
       "    <tr>\n",
       "      <th>1</th>\n",
       "      <td>-0.128737</td>\n",
       "      <td>6.292717</td>\n",
       "      <td>4.169215</td>\n",
       "      <td>0.107235</td>\n",
       "      <td>0.416277</td>\n",
       "      <td>0.398699</td>\n",
       "      <td>0.294398</td>\n",
       "    </tr>\n",
       "    <tr>\n",
       "      <th>2</th>\n",
       "      <td>-0.687808</td>\n",
       "      <td>-0.107763</td>\n",
       "      <td>-0.768345</td>\n",
       "      <td>-0.773244</td>\n",
       "      <td>-0.693795</td>\n",
       "      <td>-0.776414</td>\n",
       "      <td>-0.503179</td>\n",
       "    </tr>\n",
       "    <tr>\n",
       "      <th>3</th>\n",
       "      <td>-0.542462</td>\n",
       "      <td>-0.382069</td>\n",
       "      <td>-0.415662</td>\n",
       "      <td>-0.333005</td>\n",
       "      <td>0.194263</td>\n",
       "      <td>-0.776414</td>\n",
       "      <td>-0.503179</td>\n",
       "    </tr>\n",
       "    <tr>\n",
       "      <th>4</th>\n",
       "      <td>0.330974</td>\n",
       "      <td>-0.473505</td>\n",
       "      <td>-0.768345</td>\n",
       "      <td>-0.773244</td>\n",
       "      <td>-0.471780</td>\n",
       "      <td>-0.776414</td>\n",
       "      <td>-0.503179</td>\n",
       "    </tr>\n",
       "  </tbody>\n",
       "</table>\n",
       "</div>"
      ],
      "text/plain": [
       "   avail_seat_km_per_week  incidents_85_99  fatal_accidents_85_99  \\\n",
       "0               -0.732498        -0.473505              -0.768345   \n",
       "1               -0.128737         6.292717               4.169215   \n",
       "2               -0.687808        -0.107763              -0.768345   \n",
       "3               -0.542462        -0.382069              -0.415662   \n",
       "4                0.330974        -0.473505              -0.768345   \n",
       "\n",
       "   fatalities_85_99  incidents_00_14  fatal_accidents_00_14  fatalities_00_14  \n",
       "0         -0.773244        -0.915809              -0.776414         -0.503179  \n",
       "1          0.107235         0.416277               0.398699          0.294398  \n",
       "2         -0.773244        -0.693795              -0.776414         -0.503179  \n",
       "3         -0.333005         0.194263              -0.776414         -0.503179  \n",
       "4         -0.773244        -0.471780              -0.776414         -0.503179  "
      ]
     },
     "execution_count": 7,
     "metadata": {},
     "output_type": "execute_result"
    }
   ],
   "source": [
    "airline_scaled.head(5)"
   ]
  },
  {
   "attachments": {},
   "cell_type": "markdown",
   "metadata": {},
   "source": [
    "### K-Means Clustering\n",
    "\n",
    "We want to figure out what is the optimal number of clusters, where optimal in a sense being that the within cluster distances (meausured by Euclidan distances) are minimised. We can determine the k-number of clusters by using a elbow/scree plot. Alternatively, we can also use the silhouette score to determine the optimal number of clusters.\n",
    "\n",
    "The silhouette score calculates the mean siluhouette coefficient of all samples. "
   ]
  },
  {
   "cell_type": "code",
   "execution_count": 38,
   "metadata": {},
   "outputs": [
    {
     "data": {
      "text/plain": [
       "array([1, 3, 1, 1, 4, 3, 0, 1, 1, 1, 4, 3, 1, 0, 4, 4, 0, 1, 1, 2, 0, 1,\n",
       "       0, 1, 0, 1, 1, 1, 0, 3, 4, 0, 1, 4, 3, 0, 1, 4, 1, 1, 0, 4, 1, 4,\n",
       "       1, 1, 1, 3, 1, 0, 0, 2, 0, 1, 1, 1], dtype=int32)"
      ]
     },
     "execution_count": 38,
     "metadata": {},
     "output_type": "execute_result"
    }
   ],
   "source": [
    "from sklearn.cluster import KMeans\n",
    "from sklearn.metrics import silhouette_score\n",
    "\n",
    "# Test using kmeans = 5\n",
    "kmeans = KMeans(n_clusters=5, random_state=5508, n_init='auto')\n",
    "kmeans.fit_predict(airline_scaled.values)"
   ]
  },
  {
   "cell_type": "code",
   "execution_count": 40,
   "metadata": {},
   "outputs": [
    {
     "data": {
      "text/plain": [
       "array([[-0.19278785,  0.21577756,  0.47960996,  1.33482507,  0.14302845,\n",
       "         0.48909217, -0.03955265],\n",
       "       [-0.55840154, -0.35745223, -0.44279142, -0.47348972, -0.45470237,\n",
       "        -0.50523382, -0.38047481],\n",
       "       [ 3.75151386,  1.30948593,  2.75848395,  1.72373842,  3.30246277,\n",
       "         1.57381143,  0.22189073],\n",
       "       [ 0.45312339,  1.23328974,  0.81872811, -0.26880312,  0.60128874,\n",
       "         1.57381143,  2.28984973],\n",
       "       [ 0.75587935, -0.39222895, -0.57240991, -0.76407237, -0.02775179,\n",
       "        -0.64584558, -0.41959449]])"
      ]
     },
     "execution_count": 40,
     "metadata": {},
     "output_type": "execute_result"
    }
   ],
   "source": [
    "kmeans."
   ]
  },
  {
   "cell_type": "code",
   "execution_count": 39,
   "metadata": {},
   "outputs": [
    {
     "data": {
      "text/plain": [
       "0.2344114404914845"
      ]
     },
     "execution_count": 39,
     "metadata": {},
     "output_type": "execute_result"
    }
   ],
   "source": [
    "silhouette_score(airline_scaled.values, kmeans.labels_)"
   ]
  },
  {
   "cell_type": "code",
   "execution_count": 34,
   "metadata": {},
   "outputs": [],
   "source": [
    "# PCA for the scaled data\n",
    "from sklearn.decomposition import PCA\n",
    "pca = PCA(n_components=2)\n",
    "airline_pca = pca.fit_transform(airline_scaled.values)\n",
    "\n",
    "kmeans = KMeans(n_clusters=2, random_state=5508, n_init='auto')\n",
    "cluser_ind = kmeans.fit_predict(airline_pca)"
   ]
  },
  {
   "cell_type": "code",
   "execution_count": 35,
   "metadata": {},
   "outputs": [],
   "source": [
    "airline_pca = pd.DataFrame(airline_pca, columns=['PC1', 'PC2'])\n",
    "airline_pca['Cluster'] = cluser_ind"
   ]
  },
  {
   "cell_type": "code",
   "execution_count": 36,
   "metadata": {},
   "outputs": [
    {
     "data": {
      "image/png": "[encoded data removed]",
      "text/plain": [
       "<Figure size 1080x360 with 1 Axes>"
      ]
     },
     "metadata": {
      "needs_background": "light"
     },
     "output_type": "display_data"
    }
   ],
   "source": [
    "plt.figure(figsize=(15, 5))\n",
    "plt.scatter(airline_pca['PC1'], airline_pca['PC2'], c=airline_pca['Cluster'])\n",
    "plt.show()"
   ]
  },
  {
   "cell_type": "code",
   "execution_count": 37,
   "metadata": {},
   "outputs": [
    {
     "data": {
      "text/plain": [
       "array([[ 0.36683367,  0.05875213],\n",
       "       [ 0.38622022, -0.31374422],\n",
       "       [ 0.46285552, -0.35729859],\n",
       "       [ 0.26497288, -0.42897569],\n",
       "       [ 0.43504853,  0.08181854],\n",
       "       [ 0.41280578,  0.41623156],\n",
       "       [ 0.26859879,  0.6375636 ]])"
      ]
     },
     "execution_count": 37,
     "metadata": {},
     "output_type": "execute_result"
    }
   ],
   "source": [
    "pca.components_.T"
   ]
  }
 ],
 "metadata": {
  "kernelspec": {
   "display_name": "base",
   "language": "python",
   "name": "python3"
  },
  "language_info": {
   "codemirror_mode": {
    "name": "ipython",
    "version": 3
   },
   "file_extension": ".py",
   "mimetype": "text/x-python",
   "name": "python",
   "nbconvert_exporter": "python",
   "pygments_lexer": "ipython3",
   "version": "3.9.6"
  },
  "orig_nbformat": 4
 },
 "nbformat": 4,
 "nbformat_minor": 2
}
