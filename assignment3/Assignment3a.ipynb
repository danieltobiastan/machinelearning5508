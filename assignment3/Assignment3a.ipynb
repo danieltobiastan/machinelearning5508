{
 "cells": [
  {
   "cell_type": "code",
   "execution_count": 3,
   "id": "2acacca9",
   "metadata": {},
   "outputs": [],
   "source": [
    "import numpy as np\n",
    "import pandas as pd\n",
    "import matplotlib.pyplot as plt"
   ]
  },
  {
   "attachments": {},
   "cell_type": "markdown",
   "id": "4f73a4b4",
   "metadata": {},
   "source": [
    "## Part I: Breast Cancer Dataset\n",
    "\n",
    "In the previous assignments, we looked at the breast cancer dataset, where we attempted to identify whether a tumour is malignant or benign - to then be able to treat it correctly. We understood that accuracy was probably not a accurate representation of any classification model, as we would want to make sure that we treated positive cases and not negative cases, likewise, and more importantly, catching all the positive cases. Therefore, precision and recall were better suited metrics to assess the binary classification model.\n",
    "\n",
    "In this assignment, we revisit this dataset, with the same goals in mind. A logistic regression and decision tree model will be fitted to predict the tumour status. Additionally, we aim to also find the importance of cell nucleus features, and we can do this using Principal Component Analysis (PCA)."
   ]
  },
  {
   "attachments": {},
   "cell_type": "markdown",
   "id": "02d7fbe3",
   "metadata": {},
   "source": [
    "**Loading in the Dataset**"
   ]
  },
  {
   "cell_type": "code",
   "execution_count": 4,
   "id": "f3b46280",
   "metadata": {},
   "outputs": [],
   "source": [
    "breast_cancer = pd.read_csv('../datasets/breast-cancer.csv', sep=',')"
   ]
  },
  {
   "cell_type": "code",
   "execution_count": 5,
   "id": "840572af",
   "metadata": {},
   "outputs": [
    {
     "data": {
      "text/html": [
       "<div>\n",
       "<style scoped>\n",
       "    .dataframe tbody tr th:only-of-type {\n",
       "        vertical-align: middle;\n",
       "    }\n",
       "\n",
       "    .dataframe tbody tr th {\n",
       "        vertical-align: top;\n",
       "    }\n",
       "\n",
       "    .dataframe thead th {\n",
       "        text-align: right;\n",
       "    }\n",
       "</style>\n",
       "<table border=\"1\" class=\"dataframe\">\n",
       "  <thead>\n",
       "    <tr style=\"text-align: right;\">\n",
       "      <th></th>\n",
       "      <th>id</th>\n",
       "      <th>diagnosis</th>\n",
       "      <th>radius_mean</th>\n",
       "      <th>texture_mean</th>\n",
       "      <th>perimeter_mean</th>\n",
       "      <th>area_mean</th>\n",
       "      <th>smoothness_mean</th>\n",
       "      <th>compactness_mean</th>\n",
       "      <th>concavity_mean</th>\n",
       "      <th>concave points_mean</th>\n",
       "      <th>symmetry_mean</th>\n",
       "      <th>fractal_dimension_mean</th>\n",
       "    </tr>\n",
       "  </thead>\n",
       "  <tbody>\n",
       "    <tr>\n",
       "      <th>0</th>\n",
       "      <td>842302</td>\n",
       "      <td>M</td>\n",
       "      <td>17.99</td>\n",
       "      <td>10.38</td>\n",
       "      <td>122.80</td>\n",
       "      <td>1001.0</td>\n",
       "      <td>0.11840</td>\n",
       "      <td>0.27760</td>\n",
       "      <td>0.3001</td>\n",
       "      <td>0.14710</td>\n",
       "      <td>0.2419</td>\n",
       "      <td>0.07871</td>\n",
       "    </tr>\n",
       "    <tr>\n",
       "      <th>1</th>\n",
       "      <td>842517</td>\n",
       "      <td>M</td>\n",
       "      <td>20.57</td>\n",
       "      <td>17.77</td>\n",
       "      <td>132.90</td>\n",
       "      <td>1326.0</td>\n",
       "      <td>0.08474</td>\n",
       "      <td>0.07864</td>\n",
       "      <td>0.0869</td>\n",
       "      <td>0.07017</td>\n",
       "      <td>0.1812</td>\n",
       "      <td>0.05667</td>\n",
       "    </tr>\n",
       "    <tr>\n",
       "      <th>2</th>\n",
       "      <td>84300903</td>\n",
       "      <td>M</td>\n",
       "      <td>19.69</td>\n",
       "      <td>21.25</td>\n",
       "      <td>130.00</td>\n",
       "      <td>1203.0</td>\n",
       "      <td>0.10960</td>\n",
       "      <td>0.15990</td>\n",
       "      <td>0.1974</td>\n",
       "      <td>0.12790</td>\n",
       "      <td>0.2069</td>\n",
       "      <td>0.05999</td>\n",
       "    </tr>\n",
       "    <tr>\n",
       "      <th>3</th>\n",
       "      <td>84348301</td>\n",
       "      <td>M</td>\n",
       "      <td>11.42</td>\n",
       "      <td>20.38</td>\n",
       "      <td>77.58</td>\n",
       "      <td>386.1</td>\n",
       "      <td>0.14250</td>\n",
       "      <td>0.28390</td>\n",
       "      <td>0.2414</td>\n",
       "      <td>0.10520</td>\n",
       "      <td>0.2597</td>\n",
       "      <td>0.09744</td>\n",
       "    </tr>\n",
       "    <tr>\n",
       "      <th>4</th>\n",
       "      <td>84358402</td>\n",
       "      <td>M</td>\n",
       "      <td>20.29</td>\n",
       "      <td>14.34</td>\n",
       "      <td>135.10</td>\n",
       "      <td>1297.0</td>\n",
       "      <td>0.10030</td>\n",
       "      <td>0.13280</td>\n",
       "      <td>0.1980</td>\n",
       "      <td>0.10430</td>\n",
       "      <td>0.1809</td>\n",
       "      <td>0.05883</td>\n",
       "    </tr>\n",
       "  </tbody>\n",
       "</table>\n",
       "</div>"
      ],
      "text/plain": [
       "         id diagnosis  radius_mean  texture_mean  perimeter_mean  area_mean  \\\n",
       "0    842302         M        17.99         10.38          122.80     1001.0   \n",
       "1    842517         M        20.57         17.77          132.90     1326.0   \n",
       "2  84300903         M        19.69         21.25          130.00     1203.0   \n",
       "3  84348301         M        11.42         20.38           77.58      386.1   \n",
       "4  84358402         M        20.29         14.34          135.10     1297.0   \n",
       "\n",
       "   smoothness_mean  compactness_mean  concavity_mean  concave points_mean  \\\n",
       "0          0.11840           0.27760          0.3001              0.14710   \n",
       "1          0.08474           0.07864          0.0869              0.07017   \n",
       "2          0.10960           0.15990          0.1974              0.12790   \n",
       "3          0.14250           0.28390          0.2414              0.10520   \n",
       "4          0.10030           0.13280          0.1980              0.10430   \n",
       "\n",
       "   symmetry_mean  fractal_dimension_mean  \n",
       "0         0.2419                 0.07871  \n",
       "1         0.1812                 0.05667  \n",
       "2         0.2069                 0.05999  \n",
       "3         0.2597                 0.09744  \n",
       "4         0.1809                 0.05883  "
      ]
     },
     "execution_count": 5,
     "metadata": {},
     "output_type": "execute_result"
    }
   ],
   "source": [
    "# Quick look at the dataframe\n",
    "breast_cancer.head(5)"
   ]
  },
  {
   "attachments": {},
   "cell_type": "markdown",
   "id": "d41dc8e1",
   "metadata": {},
   "source": [
    "A glance at the dataframe shows us the diagnosis (prediction variable) and the other 10 features. Additionally, we can remove the id column, as it is not useful in our model. Likewise, it is good practice to inspect any anomaly or invalid cases in the data before modelling."
   ]
  },
  {
   "cell_type": "code",
   "execution_count": 6,
   "id": "65115849",
   "metadata": {},
   "outputs": [],
   "source": [
    "# drop the id column\n",
    "breast_cancer = breast_cancer.drop('id', axis=1)"
   ]
  },
  {
   "cell_type": "code",
   "execution_count": 7,
   "id": "18323796",
   "metadata": {},
   "outputs": [
    {
     "data": {
      "text/html": [
       "<div>\n",
       "<style scoped>\n",
       "    .dataframe tbody tr th:only-of-type {\n",
       "        vertical-align: middle;\n",
       "    }\n",
       "\n",
       "    .dataframe tbody tr th {\n",
       "        vertical-align: top;\n",
       "    }\n",
       "\n",
       "    .dataframe thead th {\n",
       "        text-align: right;\n",
       "    }\n",
       "</style>\n",
       "<table border=\"1\" class=\"dataframe\">\n",
       "  <thead>\n",
       "    <tr style=\"text-align: right;\">\n",
       "      <th></th>\n",
       "      <th>diagnosis</th>\n",
       "      <th>radius_mean</th>\n",
       "      <th>texture_mean</th>\n",
       "      <th>perimeter_mean</th>\n",
       "      <th>area_mean</th>\n",
       "      <th>smoothness_mean</th>\n",
       "      <th>compactness_mean</th>\n",
       "      <th>concavity_mean</th>\n",
       "      <th>concave points_mean</th>\n",
       "      <th>symmetry_mean</th>\n",
       "      <th>fractal_dimension_mean</th>\n",
       "    </tr>\n",
       "  </thead>\n",
       "  <tbody>\n",
       "    <tr>\n",
       "      <th>null_count</th>\n",
       "      <td>0</td>\n",
       "      <td>0</td>\n",
       "      <td>0</td>\n",
       "      <td>0</td>\n",
       "      <td>0</td>\n",
       "      <td>0</td>\n",
       "      <td>0</td>\n",
       "      <td>0</td>\n",
       "      <td>0</td>\n",
       "      <td>0</td>\n",
       "      <td>0</td>\n",
       "    </tr>\n",
       "    <tr>\n",
       "      <th>na_counts</th>\n",
       "      <td>0</td>\n",
       "      <td>0</td>\n",
       "      <td>0</td>\n",
       "      <td>0</td>\n",
       "      <td>0</td>\n",
       "      <td>0</td>\n",
       "      <td>0</td>\n",
       "      <td>0</td>\n",
       "      <td>0</td>\n",
       "      <td>0</td>\n",
       "      <td>0</td>\n",
       "    </tr>\n",
       "  </tbody>\n",
       "</table>\n",
       "</div>"
      ],
      "text/plain": [
       "            diagnosis  radius_mean  texture_mean  perimeter_mean  area_mean  \\\n",
       "null_count          0            0             0               0          0   \n",
       "na_counts           0            0             0               0          0   \n",
       "\n",
       "            smoothness_mean  compactness_mean  concavity_mean  \\\n",
       "null_count                0                 0               0   \n",
       "na_counts                 0                 0               0   \n",
       "\n",
       "            concave points_mean  symmetry_mean  fractal_dimension_mean  \n",
       "null_count                    0              0                       0  \n",
       "na_counts                     0              0                       0  "
      ]
     },
     "execution_count": 7,
     "metadata": {},
     "output_type": "execute_result"
    }
   ],
   "source": [
    "# Check for any missing values in the dataset\n",
    "null_count = np.array(breast_cancer.isnull().sum())\n",
    "na_counts = np.array(breast_cancer.isna().sum())\n",
    "pd.DataFrame(np.vstack((null_count, na_counts)), columns=breast_cancer.columns, index=['null_count','na_counts'])"
   ]
  },
  {
   "cell_type": "code",
   "execution_count": 8,
   "id": "c1c6a84d",
   "metadata": {},
   "outputs": [
    {
     "data": {
      "text/html": [
       "<div>\n",
       "<style scoped>\n",
       "    .dataframe tbody tr th:only-of-type {\n",
       "        vertical-align: middle;\n",
       "    }\n",
       "\n",
       "    .dataframe tbody tr th {\n",
       "        vertical-align: top;\n",
       "    }\n",
       "\n",
       "    .dataframe thead th {\n",
       "        text-align: right;\n",
       "    }\n",
       "</style>\n",
       "<table border=\"1\" class=\"dataframe\">\n",
       "  <thead>\n",
       "    <tr style=\"text-align: right;\">\n",
       "      <th></th>\n",
       "      <th>radius_mean</th>\n",
       "      <th>texture_mean</th>\n",
       "      <th>perimeter_mean</th>\n",
       "      <th>area_mean</th>\n",
       "      <th>smoothness_mean</th>\n",
       "      <th>compactness_mean</th>\n",
       "      <th>concavity_mean</th>\n",
       "      <th>concave points_mean</th>\n",
       "      <th>symmetry_mean</th>\n",
       "      <th>fractal_dimension_mean</th>\n",
       "    </tr>\n",
       "  </thead>\n",
       "  <tbody>\n",
       "    <tr>\n",
       "      <th>count</th>\n",
       "      <td>569.000000</td>\n",
       "      <td>569.000000</td>\n",
       "      <td>569.000000</td>\n",
       "      <td>569.000000</td>\n",
       "      <td>569.000000</td>\n",
       "      <td>569.000000</td>\n",
       "      <td>569.000000</td>\n",
       "      <td>569.000000</td>\n",
       "      <td>569.000000</td>\n",
       "      <td>569.000000</td>\n",
       "    </tr>\n",
       "    <tr>\n",
       "      <th>mean</th>\n",
       "      <td>14.127292</td>\n",
       "      <td>19.289649</td>\n",
       "      <td>91.969033</td>\n",
       "      <td>654.889104</td>\n",
       "      <td>0.096360</td>\n",
       "      <td>0.104341</td>\n",
       "      <td>0.088799</td>\n",
       "      <td>0.048919</td>\n",
       "      <td>0.181162</td>\n",
       "      <td>0.062798</td>\n",
       "    </tr>\n",
       "    <tr>\n",
       "      <th>std</th>\n",
       "      <td>3.524049</td>\n",
       "      <td>4.301036</td>\n",
       "      <td>24.298981</td>\n",
       "      <td>351.914129</td>\n",
       "      <td>0.014064</td>\n",
       "      <td>0.052813</td>\n",
       "      <td>0.079720</td>\n",
       "      <td>0.038803</td>\n",
       "      <td>0.027414</td>\n",
       "      <td>0.007060</td>\n",
       "    </tr>\n",
       "    <tr>\n",
       "      <th>min</th>\n",
       "      <td>6.981000</td>\n",
       "      <td>9.710000</td>\n",
       "      <td>43.790000</td>\n",
       "      <td>143.500000</td>\n",
       "      <td>0.052630</td>\n",
       "      <td>0.019380</td>\n",
       "      <td>0.000000</td>\n",
       "      <td>0.000000</td>\n",
       "      <td>0.106000</td>\n",
       "      <td>0.049960</td>\n",
       "    </tr>\n",
       "    <tr>\n",
       "      <th>25%</th>\n",
       "      <td>11.700000</td>\n",
       "      <td>16.170000</td>\n",
       "      <td>75.170000</td>\n",
       "      <td>420.300000</td>\n",
       "      <td>0.086370</td>\n",
       "      <td>0.064920</td>\n",
       "      <td>0.029560</td>\n",
       "      <td>0.020310</td>\n",
       "      <td>0.161900</td>\n",
       "      <td>0.057700</td>\n",
       "    </tr>\n",
       "    <tr>\n",
       "      <th>50%</th>\n",
       "      <td>13.370000</td>\n",
       "      <td>18.840000</td>\n",
       "      <td>86.240000</td>\n",
       "      <td>551.100000</td>\n",
       "      <td>0.095870</td>\n",
       "      <td>0.092630</td>\n",
       "      <td>0.061540</td>\n",
       "      <td>0.033500</td>\n",
       "      <td>0.179200</td>\n",
       "      <td>0.061540</td>\n",
       "    </tr>\n",
       "    <tr>\n",
       "      <th>75%</th>\n",
       "      <td>15.780000</td>\n",
       "      <td>21.800000</td>\n",
       "      <td>104.100000</td>\n",
       "      <td>782.700000</td>\n",
       "      <td>0.105300</td>\n",
       "      <td>0.130400</td>\n",
       "      <td>0.130700</td>\n",
       "      <td>0.074000</td>\n",
       "      <td>0.195700</td>\n",
       "      <td>0.066120</td>\n",
       "    </tr>\n",
       "    <tr>\n",
       "      <th>max</th>\n",
       "      <td>28.110000</td>\n",
       "      <td>39.280000</td>\n",
       "      <td>188.500000</td>\n",
       "      <td>2501.000000</td>\n",
       "      <td>0.163400</td>\n",
       "      <td>0.345400</td>\n",
       "      <td>0.426800</td>\n",
       "      <td>0.201200</td>\n",
       "      <td>0.304000</td>\n",
       "      <td>0.097440</td>\n",
       "    </tr>\n",
       "  </tbody>\n",
       "</table>\n",
       "</div>"
      ],
      "text/plain": [
       "       radius_mean  texture_mean  perimeter_mean    area_mean  \\\n",
       "count   569.000000    569.000000      569.000000   569.000000   \n",
       "mean     14.127292     19.289649       91.969033   654.889104   \n",
       "std       3.524049      4.301036       24.298981   351.914129   \n",
       "min       6.981000      9.710000       43.790000   143.500000   \n",
       "25%      11.700000     16.170000       75.170000   420.300000   \n",
       "50%      13.370000     18.840000       86.240000   551.100000   \n",
       "75%      15.780000     21.800000      104.100000   782.700000   \n",
       "max      28.110000     39.280000      188.500000  2501.000000   \n",
       "\n",
       "       smoothness_mean  compactness_mean  concavity_mean  concave points_mean  \\\n",
       "count       569.000000        569.000000      569.000000           569.000000   \n",
       "mean          0.096360          0.104341        0.088799             0.048919   \n",
       "std           0.014064          0.052813        0.079720             0.038803   \n",
       "min           0.052630          0.019380        0.000000             0.000000   \n",
       "25%           0.086370          0.064920        0.029560             0.020310   \n",
       "50%           0.095870          0.092630        0.061540             0.033500   \n",
       "75%           0.105300          0.130400        0.130700             0.074000   \n",
       "max           0.163400          0.345400        0.426800             0.201200   \n",
       "\n",
       "       symmetry_mean  fractal_dimension_mean  \n",
       "count     569.000000              569.000000  \n",
       "mean        0.181162                0.062798  \n",
       "std         0.027414                0.007060  \n",
       "min         0.106000                0.049960  \n",
       "25%         0.161900                0.057700  \n",
       "50%         0.179200                0.061540  \n",
       "75%         0.195700                0.066120  \n",
       "max         0.304000                0.097440  "
      ]
     },
     "execution_count": 8,
     "metadata": {},
     "output_type": "execute_result"
    }
   ],
   "source": [
    "breast_cancer.describe()"
   ]
  },
  {
   "attachments": {},
   "cell_type": "markdown",
   "id": "16ac4f00",
   "metadata": {},
   "source": [
    "We can tell that the data looks quite okay. However, we can see that a particular feature (area_mean) has much higher values compared to the other features, and variance is much larger as well. \n",
    "\n",
    "No null or invalid values, which is good.\n",
    "\n",
    "With all machine learning algorithms, we first need to seperate the dataset into training and test sets. We use a 85/15 split."
   ]
  },
  {
   "cell_type": "code",
   "execution_count": 9,
   "id": "70aa2053",
   "metadata": {},
   "outputs": [],
   "source": [
    "from sklearn.model_selection import train_test_split\n",
    "\n",
    "X = breast_cancer.iloc[:,1:11]\n",
    "y = breast_cancer.iloc[:,0]\n",
    "X_train, X_test, y_train, y_test = train_test_split(X, y, test_size=0.15, random_state=5508)"
   ]
  },
  {
   "cell_type": "code",
   "execution_count": 10,
   "id": "29ea75df",
   "metadata": {},
   "outputs": [
    {
     "data": {
      "text/plain": [
       "((483, 10), (483,), (86, 10), (86,))"
      ]
     },
     "execution_count": 10,
     "metadata": {},
     "output_type": "execute_result"
    }
   ],
   "source": [
    "# Inspect the dimensions of the training and test sets, for both y and x \n",
    "X_train.shape, y_train.shape, X_test.shape, y_test.shape"
   ]
  },
  {
   "attachments": {},
   "cell_type": "markdown",
   "id": "7fd8cdc6",
   "metadata": {},
   "source": [
    "In this section, we will be exploring the dataset, and fitting a logistic regression model and a decision tree model to predict the diagnosis of a tumour. Additionally, we will be using PCA to find the most important features in the dataset.\n",
    "\n",
    "Therefore, we need to scale the data prior to model fitting when doing PCA. Do note that for a logistic regression model, scaling is not necessary, as the coefficients will be scaled accordingly. However, for a decision tree model, scaling is necessary, as the tree will be built based on the scaled values. We can then use the StandardScaler() function to scale the data."
   ]
  },
  {
   "cell_type": "code",
   "execution_count": 333,
   "id": "11181f22",
   "metadata": {},
   "outputs": [],
   "source": [
    "# Scaling the data\n",
    "from sklearn.preprocessing import StandardScaler\n",
    "\n",
    "scaler = StandardScaler()\n",
    "scaler.fit(X_train)\n",
    "X_train_scaled = scaler.fit_transform(X_train)\n",
    "X_test_scaled = scaler.fit_transform(X_test)\n",
    "\n",
    "# turn it back into dataframe\n",
    "X_train = pd.DataFrame(X_train_scaled, columns=X_train.columns)\n",
    "X_test = pd.DataFrame(X_test_scaled, columns=X_test.columns)"
   ]
  },
  {
   "attachments": {},
   "cell_type": "markdown",
   "id": "ad6796e1",
   "metadata": {},
   "source": [
    "**1a. Logistic Regression**\n",
    "\n",
    "In this section, we build a logistic regression model on the training set to predict tumour status. Additionally, we want to find the optimal hyperparameters that we achieve the best model. We first start of with the base model with no hyperparameters."
   ]
  },
  {
   "cell_type": "code",
   "execution_count": 232,
   "id": "3292230e",
   "metadata": {},
   "outputs": [
    {
     "data": {
      "text/html": [
       "<style>#sk-container-id-4 {color: black;background-color: white;}#sk-container-id-4 pre{padding: 0;}#sk-container-id-4 div.sk-toggleable {background-color: white;}#sk-container-id-4 label.sk-toggleable__label {cursor: pointer;display: block;width: 100%;margin-bottom: 0;padding: 0.3em;box-sizing: border-box;text-align: center;}#sk-container-id-4 label.sk-toggleable__label-arrow:before {content: \"▸\";float: left;margin-right: 0.25em;color: #696969;}#sk-container-id-4 label.sk-toggleable__label-arrow:hover:before {color: black;}#sk-container-id-4 div.sk-estimator:hover label.sk-toggleable__label-arrow:before {color: black;}#sk-container-id-4 div.sk-toggleable__content {max-height: 0;max-width: 0;overflow: hidden;text-align: left;background-color: #f0f8ff;}#sk-container-id-4 div.sk-toggleable__content pre {margin: 0.2em;color: black;border-radius: 0.25em;background-color: #f0f8ff;}#sk-container-id-4 input.sk-toggleable__control:checked~div.sk-toggleable__content {max-height: 200px;max-width: 100%;overflow: auto;}#sk-container-id-4 input.sk-toggleable__control:checked~label.sk-toggleable__label-arrow:before {content: \"▾\";}#sk-container-id-4 div.sk-estimator input.sk-toggleable__control:checked~label.sk-toggleable__label {background-color: #d4ebff;}#sk-container-id-4 div.sk-label input.sk-toggleable__control:checked~label.sk-toggleable__label {background-color: #d4ebff;}#sk-container-id-4 input.sk-hidden--visually {border: 0;clip: rect(1px 1px 1px 1px);clip: rect(1px, 1px, 1px, 1px);height: 1px;margin: -1px;overflow: hidden;padding: 0;position: absolute;width: 1px;}#sk-container-id-4 div.sk-estimator {font-family: monospace;background-color: #f0f8ff;border: 1px dotted black;border-radius: 0.25em;box-sizing: border-box;margin-bottom: 0.5em;}#sk-container-id-4 div.sk-estimator:hover {background-color: #d4ebff;}#sk-container-id-4 div.sk-parallel-item::after {content: \"\";width: 100%;border-bottom: 1px solid gray;flex-grow: 1;}#sk-container-id-4 div.sk-label:hover label.sk-toggleable__label {background-color: #d4ebff;}#sk-container-id-4 div.sk-serial::before {content: \"\";position: absolute;border-left: 1px solid gray;box-sizing: border-box;top: 0;bottom: 0;left: 50%;z-index: 0;}#sk-container-id-4 div.sk-serial {display: flex;flex-direction: column;align-items: center;background-color: white;padding-right: 0.2em;padding-left: 0.2em;position: relative;}#sk-container-id-4 div.sk-item {position: relative;z-index: 1;}#sk-container-id-4 div.sk-parallel {display: flex;align-items: stretch;justify-content: center;background-color: white;position: relative;}#sk-container-id-4 div.sk-item::before, #sk-container-id-4 div.sk-parallel-item::before {content: \"\";position: absolute;border-left: 1px solid gray;box-sizing: border-box;top: 0;bottom: 0;left: 50%;z-index: -1;}#sk-container-id-4 div.sk-parallel-item {display: flex;flex-direction: column;z-index: 1;position: relative;background-color: white;}#sk-container-id-4 div.sk-parallel-item:first-child::after {align-self: flex-end;width: 50%;}#sk-container-id-4 div.sk-parallel-item:last-child::after {align-self: flex-start;width: 50%;}#sk-container-id-4 div.sk-parallel-item:only-child::after {width: 0;}#sk-container-id-4 div.sk-dashed-wrapped {border: 1px dashed gray;margin: 0 0.4em 0.5em 0.4em;box-sizing: border-box;padding-bottom: 0.4em;background-color: white;}#sk-container-id-4 div.sk-label label {font-family: monospace;font-weight: bold;display: inline-block;line-height: 1.2em;}#sk-container-id-4 div.sk-label-container {text-align: center;}#sk-container-id-4 div.sk-container {/* jupyter's `normalize.less` sets `[hidden] { display: none; }` but bootstrap.min.css set `[hidden] { display: none !important; }` so we also need the `!important` here to be able to override the default hidden behavior on the sphinx rendered scikit-learn.org. See: https://github.com/scikit-learn/scikit-learn/issues/21755 */display: inline-block !important;position: relative;}#sk-container-id-4 div.sk-text-repr-fallback {display: none;}</style><div id=\"sk-container-id-4\" class=\"sk-top-container\"><div class=\"sk-text-repr-fallback\"><pre>LogisticRegression(max_iter=10000, random_state=5508)</pre><b>In a Jupyter environment, please rerun this cell to show the HTML representation or trust the notebook. <br />On GitHub, the HTML representation is unable to render, please try loading this page with nbviewer.org.</b></div><div class=\"sk-container\" hidden><div class=\"sk-item\"><div class=\"sk-estimator sk-toggleable\"><input class=\"sk-toggleable__control sk-hidden--visually\" id=\"sk-estimator-id-8\" type=\"checkbox\" checked><label for=\"sk-estimator-id-8\" class=\"sk-toggleable__label sk-toggleable__label-arrow\">LogisticRegression</label><div class=\"sk-toggleable__content\"><pre>LogisticRegression(max_iter=10000, random_state=5508)</pre></div></div></div></div></div>"
      ],
      "text/plain": [
       "LogisticRegression(max_iter=10000, random_state=5508)"
      ]
     },
     "execution_count": 232,
     "metadata": {},
     "output_type": "execute_result"
    }
   ],
   "source": [
    "from sklearn.linear_model import LogisticRegression\n",
    "\n",
    "bc_logreg_base = LogisticRegression(random_state=5508, max_iter=10000)\n",
    "bc_logreg_base.fit(X_train.values, y_train)"
   ]
  },
  {
   "cell_type": "code",
   "execution_count": 233,
   "id": "901f16fc",
   "metadata": {},
   "outputs": [],
   "source": [
    "from sklearn.metrics import confusion_matrix,  ConfusionMatrixDisplay\n",
    "from sklearn.model_selection import cross_val_predict, cross_val_score\n",
    "from sklearn.metrics import classification_report\n",
    "\n",
    "# Start by evaluating the model on the training set\n",
    "y_train_pred = bc_logreg_base.predict(X_train.values)\n",
    "y_test_pred = bc_logreg_base.predict(X_test.values)\n",
    "target_names = bc_logreg_base.classes_"
   ]
  },
  {
   "cell_type": "code",
   "execution_count": 234,
   "id": "f3425480",
   "metadata": {},
   "outputs": [
    {
     "data": {
      "image/png": "[encoded data removed]",
      "text/plain": [
       "<Figure size 720x360 with 4 Axes>"
      ]
     },
     "metadata": {
      "needs_background": "light"
     },
     "output_type": "display_data"
    }
   ],
   "source": [
    "# Function to display the confusion matrix for the training and testing sets\n",
    "def display_confusion_matrix(y_train, y_test, y_train_pred, y_test_pred, target_names, model_name):\n",
    "    test_cm = confusion_matrix(y_test, y_test_pred)\n",
    "    disp_test = ConfusionMatrixDisplay(confusion_matrix=test_cm, display_labels=target_names)\n",
    "    train_cm = confusion_matrix(y_train, y_train_pred)\n",
    "    disp_train = ConfusionMatrixDisplay(confusion_matrix=train_cm, display_labels=target_names)\n",
    "    fig, axs = plt.subplots(1, 2, figsize=(10, 5))\n",
    "    axs[0].set_title('Training Set Confusion Matrix')\n",
    "    disp_train.plot(ax=axs[0], xticks_rotation='vertical')\n",
    "    axs[1].set_title('Testing Set Confusion Matrix')\n",
    "    disp_test.plot(ax=axs[1], xticks_rotation='vertical')\n",
    "    fig.suptitle(f'Confusion Matrices for Training and Testing Sets ({model_name})')\n",
    "    plt.show()\n",
    "    \n",
    "# Base Model Confusion Matrix for 2 class benign/malignant classification\n",
    "display_confusion_matrix(y_train, y_test, y_train_pred, y_test_pred, target_names, 'Base Model')"
   ]
  },
  {
   "cell_type": "code",
   "execution_count": 235,
   "id": "5fb99196",
   "metadata": {},
   "outputs": [
    {
     "name": "stdout",
     "output_type": "stream",
     "text": [
      "Training Set Report:\n",
      "              precision    recall  f1-score   support\n",
      "\n",
      "           B       0.94      0.97      0.95       301\n",
      "           M       0.94      0.89      0.92       182\n",
      "\n",
      "    accuracy                           0.94       483\n",
      "   macro avg       0.94      0.93      0.93       483\n",
      "weighted avg       0.94      0.94      0.94       483\n",
      "\n",
      "Testing Set Report:\n",
      "              precision    recall  f1-score   support\n",
      "\n",
      "           B       0.98      0.96      0.97        56\n",
      "           M       0.94      0.97      0.95        30\n",
      "\n",
      "    accuracy                           0.97        86\n",
      "   macro avg       0.96      0.97      0.96        86\n",
      "weighted avg       0.97      0.97      0.97        86\n",
      "\n"
     ]
    }
   ],
   "source": [
    "# Classification report\n",
    "def summarize_classification(y_train, y_test, y_train_pred, y_test_pred, target_names):\n",
    "    print('Training Set Report:')\n",
    "    print(classification_report(y_train, y_train_pred, target_names=target_names))\n",
    "    print('Testing Set Report:')\n",
    "    print(classification_report(y_test, y_test_pred, target_names=target_names))\n",
    "\n",
    "summarize_classification(y_train, y_test, y_train_pred, y_test_pred, target_names)"
   ]
  },
  {
   "attachments": {},
   "cell_type": "markdown",
   "id": "40239dae",
   "metadata": {},
   "source": [
    "From the above model predictions and performance metrics, we can see that our base model might not be the best at catching the malignant tumors. The recall parameter tells us the number of classified positive cases as a proportion of true positive cases. This metric is important for both catching the malignant tumors accurately. The precision parameter is more important to catching the benign tumors as we do not want to misclassify them and treat them using malignant treatments.\n",
    "\n",
    "We continue to find the best model using hyperparameter tuning and then cross-validation."
   ]
  },
  {
   "cell_type": "code",
   "execution_count": 236,
   "id": "a309721f",
   "metadata": {},
   "outputs": [
    {
     "data": {
      "text/html": [
       "<style>#sk-container-id-5 {color: black;background-color: white;}#sk-container-id-5 pre{padding: 0;}#sk-container-id-5 div.sk-toggleable {background-color: white;}#sk-container-id-5 label.sk-toggleable__label {cursor: pointer;display: block;width: 100%;margin-bottom: 0;padding: 0.3em;box-sizing: border-box;text-align: center;}#sk-container-id-5 label.sk-toggleable__label-arrow:before {content: \"▸\";float: left;margin-right: 0.25em;color: #696969;}#sk-container-id-5 label.sk-toggleable__label-arrow:hover:before {color: black;}#sk-container-id-5 div.sk-estimator:hover label.sk-toggleable__label-arrow:before {color: black;}#sk-container-id-5 div.sk-toggleable__content {max-height: 0;max-width: 0;overflow: hidden;text-align: left;background-color: #f0f8ff;}#sk-container-id-5 div.sk-toggleable__content pre {margin: 0.2em;color: black;border-radius: 0.25em;background-color: #f0f8ff;}#sk-container-id-5 input.sk-toggleable__control:checked~div.sk-toggleable__content {max-height: 200px;max-width: 100%;overflow: auto;}#sk-container-id-5 input.sk-toggleable__control:checked~label.sk-toggleable__label-arrow:before {content: \"▾\";}#sk-container-id-5 div.sk-estimator input.sk-toggleable__control:checked~label.sk-toggleable__label {background-color: #d4ebff;}#sk-container-id-5 div.sk-label input.sk-toggleable__control:checked~label.sk-toggleable__label {background-color: #d4ebff;}#sk-container-id-5 input.sk-hidden--visually {border: 0;clip: rect(1px 1px 1px 1px);clip: rect(1px, 1px, 1px, 1px);height: 1px;margin: -1px;overflow: hidden;padding: 0;position: absolute;width: 1px;}#sk-container-id-5 div.sk-estimator {font-family: monospace;background-color: #f0f8ff;border: 1px dotted black;border-radius: 0.25em;box-sizing: border-box;margin-bottom: 0.5em;}#sk-container-id-5 div.sk-estimator:hover {background-color: #d4ebff;}#sk-container-id-5 div.sk-parallel-item::after {content: \"\";width: 100%;border-bottom: 1px solid gray;flex-grow: 1;}#sk-container-id-5 div.sk-label:hover label.sk-toggleable__label {background-color: #d4ebff;}#sk-container-id-5 div.sk-serial::before {content: \"\";position: absolute;border-left: 1px solid gray;box-sizing: border-box;top: 0;bottom: 0;left: 50%;z-index: 0;}#sk-container-id-5 div.sk-serial {display: flex;flex-direction: column;align-items: center;background-color: white;padding-right: 0.2em;padding-left: 0.2em;position: relative;}#sk-container-id-5 div.sk-item {position: relative;z-index: 1;}#sk-container-id-5 div.sk-parallel {display: flex;align-items: stretch;justify-content: center;background-color: white;position: relative;}#sk-container-id-5 div.sk-item::before, #sk-container-id-5 div.sk-parallel-item::before {content: \"\";position: absolute;border-left: 1px solid gray;box-sizing: border-box;top: 0;bottom: 0;left: 50%;z-index: -1;}#sk-container-id-5 div.sk-parallel-item {display: flex;flex-direction: column;z-index: 1;position: relative;background-color: white;}#sk-container-id-5 div.sk-parallel-item:first-child::after {align-self: flex-end;width: 50%;}#sk-container-id-5 div.sk-parallel-item:last-child::after {align-self: flex-start;width: 50%;}#sk-container-id-5 div.sk-parallel-item:only-child::after {width: 0;}#sk-container-id-5 div.sk-dashed-wrapped {border: 1px dashed gray;margin: 0 0.4em 0.5em 0.4em;box-sizing: border-box;padding-bottom: 0.4em;background-color: white;}#sk-container-id-5 div.sk-label label {font-family: monospace;font-weight: bold;display: inline-block;line-height: 1.2em;}#sk-container-id-5 div.sk-label-container {text-align: center;}#sk-container-id-5 div.sk-container {/* jupyter's `normalize.less` sets `[hidden] { display: none; }` but bootstrap.min.css set `[hidden] { display: none !important; }` so we also need the `!important` here to be able to override the default hidden behavior on the sphinx rendered scikit-learn.org. See: https://github.com/scikit-learn/scikit-learn/issues/21755 */display: inline-block !important;position: relative;}#sk-container-id-5 div.sk-text-repr-fallback {display: none;}</style><div id=\"sk-container-id-5\" class=\"sk-top-container\"><div class=\"sk-text-repr-fallback\"><pre>GridSearchCV(cv=5,\n",
       "             estimator=LogisticRegression(max_iter=10000, random_state=5508),\n",
       "             n_jobs=-1,\n",
       "             param_grid={&#x27;C&#x27;: [0.001, 0.01, 0.1, 1, 5, 10, 100],\n",
       "                         &#x27;class_weight&#x27;: [&#x27;balanced&#x27;, None],\n",
       "                         &#x27;penalty&#x27;: [&#x27;l1&#x27;, &#x27;l2&#x27;],\n",
       "                         &#x27;solver&#x27;: [&#x27;liblinear&#x27;, &#x27;saga&#x27;]},\n",
       "             scoring=make_scorer(recall_score, pos_label=M))</pre><b>In a Jupyter environment, please rerun this cell to show the HTML representation or trust the notebook. <br />On GitHub, the HTML representation is unable to render, please try loading this page with nbviewer.org.</b></div><div class=\"sk-container\" hidden><div class=\"sk-item sk-dashed-wrapped\"><div class=\"sk-label-container\"><div class=\"sk-label sk-toggleable\"><input class=\"sk-toggleable__control sk-hidden--visually\" id=\"sk-estimator-id-9\" type=\"checkbox\" ><label for=\"sk-estimator-id-9\" class=\"sk-toggleable__label sk-toggleable__label-arrow\">GridSearchCV</label><div class=\"sk-toggleable__content\"><pre>GridSearchCV(cv=5,\n",
       "             estimator=LogisticRegression(max_iter=10000, random_state=5508),\n",
       "             n_jobs=-1,\n",
       "             param_grid={&#x27;C&#x27;: [0.001, 0.01, 0.1, 1, 5, 10, 100],\n",
       "                         &#x27;class_weight&#x27;: [&#x27;balanced&#x27;, None],\n",
       "                         &#x27;penalty&#x27;: [&#x27;l1&#x27;, &#x27;l2&#x27;],\n",
       "                         &#x27;solver&#x27;: [&#x27;liblinear&#x27;, &#x27;saga&#x27;]},\n",
       "             scoring=make_scorer(recall_score, pos_label=M))</pre></div></div></div><div class=\"sk-parallel\"><div class=\"sk-parallel-item\"><div class=\"sk-item\"><div class=\"sk-label-container\"><div class=\"sk-label sk-toggleable\"><input class=\"sk-toggleable__control sk-hidden--visually\" id=\"sk-estimator-id-10\" type=\"checkbox\" ><label for=\"sk-estimator-id-10\" class=\"sk-toggleable__label sk-toggleable__label-arrow\">estimator: LogisticRegression</label><div class=\"sk-toggleable__content\"><pre>LogisticRegression(max_iter=10000, random_state=5508)</pre></div></div></div><div class=\"sk-serial\"><div class=\"sk-item\"><div class=\"sk-estimator sk-toggleable\"><input class=\"sk-toggleable__control sk-hidden--visually\" id=\"sk-estimator-id-11\" type=\"checkbox\" ><label for=\"sk-estimator-id-11\" class=\"sk-toggleable__label sk-toggleable__label-arrow\">LogisticRegression</label><div class=\"sk-toggleable__content\"><pre>LogisticRegression(max_iter=10000, random_state=5508)</pre></div></div></div></div></div></div></div></div></div></div>"
      ],
      "text/plain": [
       "GridSearchCV(cv=5,\n",
       "             estimator=LogisticRegression(max_iter=10000, random_state=5508),\n",
       "             n_jobs=-1,\n",
       "             param_grid={'C': [0.001, 0.01, 0.1, 1, 5, 10, 100],\n",
       "                         'class_weight': ['balanced', None],\n",
       "                         'penalty': ['l1', 'l2'],\n",
       "                         'solver': ['liblinear', 'saga']},\n",
       "             scoring=make_scorer(recall_score, pos_label=M))"
      ]
     },
     "execution_count": 236,
     "metadata": {},
     "output_type": "execute_result"
    }
   ],
   "source": [
    "# Hyperparameter tuning for logistic regression\n",
    "from sklearn.model_selection import GridSearchCV\n",
    "from sklearn.metrics import make_scorer, precision_score, recall_score\n",
    "from sklearn.model_selection import cross_validate\n",
    "\n",
    "# grid of hyperparameters to search\n",
    "param_grid = {'C': [0.001, 0.01, 0.1, 1, 5, 10, 100],\n",
    "                'penalty': ['l1', 'l2'],\n",
    "                'solver': ['liblinear','saga'],\n",
    "                'class_weight': ['balanced', None],\n",
    "}\n",
    "\n",
    "bc_logreg_cv = GridSearchCV(bc_logreg_base, param_grid, cv=5, scoring = make_scorer(recall_score, pos_label='M'), n_jobs=-1)\n",
    "# Fit to the training data\n",
    "bc_logreg_cv.fit(X_train.values, y_train)"
   ]
  },
  {
   "attachments": {},
   "cell_type": "markdown",
   "id": "b579bee2",
   "metadata": {},
   "source": [
    "Upon using the Grid Search CV, we can look at the best hyperparameters that gives us the best recall score on Malignant instances."
   ]
  },
  {
   "cell_type": "code",
   "execution_count": 237,
   "id": "b36bc944",
   "metadata": {},
   "outputs": [
    {
     "data": {
      "image/png": "[encoded data removed]",
      "text/plain": [
       "<Figure size 720x360 with 4 Axes>"
      ]
     },
     "metadata": {
      "needs_background": "light"
     },
     "output_type": "display_data"
    },
    {
     "name": "stdout",
     "output_type": "stream",
     "text": [
      "Training Set Report:\n",
      "              precision    recall  f1-score   support\n",
      "\n",
      "           B       0.96      0.95      0.95       301\n",
      "           M       0.91      0.93      0.92       182\n",
      "\n",
      "    accuracy                           0.94       483\n",
      "   macro avg       0.94      0.94      0.94       483\n",
      "weighted avg       0.94      0.94      0.94       483\n",
      "\n",
      "Testing Set Report:\n",
      "              precision    recall  f1-score   support\n",
      "\n",
      "           B       0.98      0.93      0.95        56\n",
      "           M       0.88      0.97      0.92        30\n",
      "\n",
      "    accuracy                           0.94        86\n",
      "   macro avg       0.93      0.95      0.94        86\n",
      "weighted avg       0.95      0.94      0.94        86\n",
      "\n"
     ]
    }
   ],
   "source": [
    "# Best model\n",
    "bc_logreg_best = bc_logreg_cv.best_estimator_\n",
    "bc_logreg_best.fit(X_train.values, y_train)\n",
    "\n",
    "y_train_best = bc_logreg_best.predict(X_train.values)\n",
    "y_test_best = bc_logreg_best.predict(X_test.values)\n",
    "\n",
    "display_confusion_matrix(y_train, y_test, y_train_best, y_test_best, target_names, 'Optimized Model')\n",
    "summarize_classification(y_train, y_test, y_train_best, y_test_best, target_names)"
   ]
  },
  {
   "attachments": {},
   "cell_type": "markdown",
   "id": "56cf024f",
   "metadata": {},
   "source": [
    "The recall scores on the malignant observations have increased for the training set, but remains the same for the test set at 0.97. We favour the recall score over the precision score for the malignant as a trade off as we want to make sure that we catch all the malignant tumors. The precision score is as we can see increased for the begnin tumors, which is good as we do not want to misclassify them as malignant and treat them using malignant treatments.\n",
    "\n",
    "Therfore, this is exactly what we were after. However, to acertain that our new logistic regression model with the optimal hyperparameters is much better than the base model, we can use k-fold cross validation using k=5. "
   ]
  },
  {
   "cell_type": "code",
   "execution_count": 238,
   "id": "1fc41dfb",
   "metadata": {},
   "outputs": [],
   "source": [
    "# Cross Validation, prepare the scorers on each class\n",
    "scorers = {\n",
    "    'precision': make_scorer(precision_score, pos_label='B'),\n",
    "    'recall': make_scorer(recall_score, pos_label='M')\n",
    "}\n",
    "\n",
    "def cross_validation(model, X_train, y_train, cv=5):\n",
    "    cv_scores = cross_validate(model, X_train, y_train, cv=cv, scoring=scorers)\n",
    "    return cv_scores\n",
    "    \n",
    "cv_scores_base = cross_validation(bc_logreg_base, X_train, y_train, cv=5)\n",
    "cv_scores_best = cross_validation(bc_logreg_best, X_train, y_train, cv=5)"
   ]
  },
  {
   "cell_type": "code",
   "execution_count": 239,
   "id": "163cc3c4",
   "metadata": {},
   "outputs": [
    {
     "name": "stdout",
     "output_type": "stream",
     "text": [
      "Base Model Precision: 0.9335364051153526, Recall: 0.884984984984985\n",
      "Optimal Model Precision: 0.9504965353519301, Recall: 0.9177177177177176\n"
     ]
    }
   ],
   "source": [
    "print(f\"Base Model Precision: {cv_scores_base['test_precision'].mean()}, Recall: {cv_scores_base['test_recall'].mean()}\")\n",
    "print(f\"Optimal Model Precision: {cv_scores_best['test_precision'].mean()}, Recall: {cv_scores_best['test_recall'].mean()}\")"
   ]
  },
  {
   "attachments": {},
   "cell_type": "markdown",
   "id": "d1f27afc",
   "metadata": {},
   "source": [
    "The recommended choice, given a choice between the 2 logistic regression models for identifying a benign or malignant tumor classification problem would have to be the latter **optimal model**."
   ]
  },
  {
   "cell_type": "code",
   "execution_count": 240,
   "id": "87b1d2ac",
   "metadata": {},
   "outputs": [
    {
     "data": {
      "text/plain": [
       "{'C': 1, 'class_weight': 'balanced', 'penalty': 'l1', 'solver': 'saga'}"
      ]
     },
     "execution_count": 240,
     "metadata": {},
     "output_type": "execute_result"
    }
   ],
   "source": [
    "# Optimal Hyperparameters for the LR model using GridSearchCV\n",
    "bc_logreg_cv.best_params_"
   ]
  },
  {
   "attachments": {},
   "cell_type": "markdown",
   "id": "e39f55dc",
   "metadata": {},
   "source": [
    "**1b. Decision Tree Classifier**\n",
    "\n",
    "In the second part of the classification prediction, we would like to achieve the same goals, but this time using a decision tree classsifier.\n",
    "Similarly, we start with the base model and then work our way up to find the optimal decision tree."
   ]
  },
  {
   "cell_type": "code",
   "execution_count": 241,
   "id": "63f387d8",
   "metadata": {},
   "outputs": [],
   "source": [
    "from sklearn.tree import DecisionTreeClassifier\n",
    "\n",
    "# Base model\n",
    "bc_tree_base = DecisionTreeClassifier(random_state=5508)\n",
    "bc_tree_base.fit(X_train.values, y_train)\n",
    "bc_tree_base_train_pred = bc_tree_base.predict(X_train.values)\n",
    "bc_tree_base_pred = bc_tree_base.predict(X_test.values)"
   ]
  },
  {
   "cell_type": "code",
   "execution_count": 242,
   "id": "be705d26",
   "metadata": {},
   "outputs": [
    {
     "data": {
      "image/png": "[encoded data removed]",
      "text/plain": [
       "<Figure size 720x360 with 4 Axes>"
      ]
     },
     "metadata": {
      "needs_background": "light"
     },
     "output_type": "display_data"
    },
    {
     "name": "stdout",
     "output_type": "stream",
     "text": [
      "Training Set Report:\n",
      "              precision    recall  f1-score   support\n",
      "\n",
      "           B       1.00      1.00      1.00       301\n",
      "           M       1.00      1.00      1.00       182\n",
      "\n",
      "    accuracy                           1.00       483\n",
      "   macro avg       1.00      1.00      1.00       483\n",
      "weighted avg       1.00      1.00      1.00       483\n",
      "\n",
      "Testing Set Report:\n",
      "              precision    recall  f1-score   support\n",
      "\n",
      "           B       0.96      0.93      0.95        56\n",
      "           M       0.88      0.93      0.90        30\n",
      "\n",
      "    accuracy                           0.93        86\n",
      "   macro avg       0.92      0.93      0.92        86\n",
      "weighted avg       0.93      0.93      0.93        86\n",
      "\n"
     ]
    }
   ],
   "source": [
    "display_confusion_matrix(y_train, y_test, bc_tree_base_train_pred, bc_tree_base_pred, target_names,'Base Model Decision Tree')\n",
    "summarize_classification(y_train, y_test, bc_tree_base_train_pred, bc_tree_base_pred, target_names)"
   ]
  },
  {
   "attachments": {},
   "cell_type": "markdown",
   "id": "64831c8d",
   "metadata": {},
   "source": [
    "If we look at our model results from the metrics and confusion table above, we can observe that precision, recall and accuracy scores are perfect in the training set. However, this is not the case with the test set - which is a good indication that our decision tree model might be overfitted to the training data. \n",
    "\n",
    "Therefore, we might want to find a more generalised decision tree, which might be require pruning. Once again, we tune the hyperparameters and cross-validate it. "
   ]
  },
  {
   "cell_type": "code",
   "execution_count": 243,
   "id": "8a63436c",
   "metadata": {},
   "outputs": [
    {
     "data": {
      "text/plain": [
       "{'class_weight': 'balanced',\n",
       " 'criterion': 'entropy',\n",
       " 'max_depth': 2,\n",
       " 'min_samples_leaf': 1,\n",
       " 'min_samples_split': 2}"
      ]
     },
     "execution_count": 243,
     "metadata": {},
     "output_type": "execute_result"
    }
   ],
   "source": [
    "# Hyperparameter tuning for decision tree using GridSearchCV\n",
    "param_grid = {'criterion': ['gini', 'entropy'],\n",
    "                'max_depth': [2, 3, 4, 5, 6, 7, 8, 9, 10],\n",
    "                'min_samples_split': [2, 3, 4, 5, 6, 7, 8, 9, 10],\n",
    "                'min_samples_leaf': [1, 2, 3, 4, 5, 6, 7, 8, 9],\n",
    "                'class_weight': ['balanced', None],}\n",
    "bc_tree_cv = GridSearchCV(bc_tree_base, param_grid, scoring=make_scorer(recall_score, pos_label=\"M\"), cv=5, n_jobs=-1)\n",
    "bc_tree_cv.fit(X_train.values, y_train)\n",
    "# a quick look at the best parameters\n",
    "bc_tree_cv.best_params_"
   ]
  },
  {
   "cell_type": "code",
   "execution_count": 244,
   "id": "cb70d02f",
   "metadata": {},
   "outputs": [],
   "source": [
    "# Evaluate the model with the best parameters\n",
    "bc_tree_best = bc_tree_cv.best_estimator_\n",
    "bc_tree_best.fit(X_train.values, y_train)\n",
    "bc_tree_best_train_pred = bc_tree_best.predict(X_train.values)\n",
    "bc_tree_best_pred = bc_tree_best.predict(X_test.values)"
   ]
  },
  {
   "cell_type": "code",
   "execution_count": 245,
   "id": "4e8f6521",
   "metadata": {},
   "outputs": [
    {
     "data": {
      "image/png": "[encoded data removed]",
      "text/plain": [
       "<Figure size 720x360 with 4 Axes>"
      ]
     },
     "metadata": {
      "needs_background": "light"
     },
     "output_type": "display_data"
    },
    {
     "name": "stdout",
     "output_type": "stream",
     "text": [
      "Training Set Report:\n",
      "              precision    recall  f1-score   support\n",
      "\n",
      "           B       0.98      0.89      0.93       301\n",
      "           M       0.84      0.97      0.90       182\n",
      "\n",
      "    accuracy                           0.92       483\n",
      "   macro avg       0.91      0.93      0.92       483\n",
      "weighted avg       0.93      0.92      0.92       483\n",
      "\n",
      "Testing Set Report:\n",
      "              precision    recall  f1-score   support\n",
      "\n",
      "           B       0.96      0.93      0.95        56\n",
      "           M       0.88      0.93      0.90        30\n",
      "\n",
      "    accuracy                           0.93        86\n",
      "   macro avg       0.92      0.93      0.92        86\n",
      "weighted avg       0.93      0.93      0.93        86\n",
      "\n"
     ]
    }
   ],
   "source": [
    "# Confusion matrix and classification report\n",
    "display_confusion_matrix(y_train, y_test, bc_tree_best_train_pred, bc_tree_best_pred, target_names, 'Optimized Model Decision Tree')\n",
    "summarize_classification(y_train, y_test, bc_tree_best_train_pred, bc_tree_best_pred, target_names)"
   ]
  },
  {
   "attachments": {},
   "cell_type": "markdown",
   "id": "54126111",
   "metadata": {},
   "source": [
    "From the model above, we can see that the model has generalised well to the test set, as the recall scores are much the same than the base model. Despite the precision score being lower, we are more interested in the recall score, as we want to make sure that we catch all the malignant tumors. Therefore, we can conclude that the optimal decision tree model is better than the base model, in terms of it not overfitting to the training data and generalising well to the test set, and also retaining a good recall score. \n",
    "\n",
    "The hyperparameters selected for the optimal decision tree model are as follows:\n",
    "- 'class_weight': 'balanced'\n",
    "- 'criterion': 'entropy'\n",
    "- 'max_depth': 2\n",
    "- 'min_samples_leaf': 1\n",
    "- 'min_samples_split': 2"
   ]
  },
  {
   "cell_type": "code",
   "execution_count": 246,
   "id": "bd5bf5e7",
   "metadata": {},
   "outputs": [
    {
     "name": "stdout",
     "output_type": "stream",
     "text": [
      "Base Model Precision: 0.9370517472826048, Recall: 0.895045045045045\n",
      "Optimal Model Precision: 0.975169725078981, Recall: 0.9615615615615616\n"
     ]
    }
   ],
   "source": [
    "# Perform Cross validation between the base and optimal decsiion tree models\n",
    "cv_scores_base = cross_validation(bc_tree_base, X_train, y_train, cv=5)\n",
    "cv_scores_best = cross_validation(bc_tree_best, X_train, y_train, cv=5)\n",
    "\n",
    "print(f\"Base Model Precision: {cv_scores_base['test_precision'].mean()}, Recall: {cv_scores_base['test_recall'].mean()}\")\n",
    "print(f\"Optimal Model Precision: {cv_scores_best['test_precision'].mean()}, Recall: {cv_scores_best['test_recall'].mean()}\")"
   ]
  },
  {
   "attachments": {},
   "cell_type": "markdown",
   "id": "370a420a",
   "metadata": {},
   "source": [
    "We see here that the precision on benign has increased, and recall on malignant has increased as well for the optimal model. Therefore, the optimal decison tree model is better than the base model and we pick that."
   ]
  },
  {
   "attachments": {},
   "cell_type": "markdown",
   "id": "90874a70",
   "metadata": {},
   "source": [
    "**2. Feature Importance**\n",
    "\n",
    "After looking at the two models that we have fit earlier, as well as the optimal models being trained, we want to look at the features that perhaps contribute the most to the prediction of the tumour status. For the logistic regression, we can take a look at the coefficients of the model, and for the decision tree, we can look at which feature is being used as the largest information gain."
   ]
  },
  {
   "cell_type": "code",
   "execution_count": 247,
   "id": "ba2b6b08",
   "metadata": {},
   "outputs": [
    {
     "data": {
      "text/html": [
       "<div>\n",
       "<style scoped>\n",
       "    .dataframe tbody tr th:only-of-type {\n",
       "        vertical-align: middle;\n",
       "    }\n",
       "\n",
       "    .dataframe tbody tr th {\n",
       "        vertical-align: top;\n",
       "    }\n",
       "\n",
       "    .dataframe thead th {\n",
       "        text-align: right;\n",
       "    }\n",
       "</style>\n",
       "<table border=\"1\" class=\"dataframe\">\n",
       "  <thead>\n",
       "    <tr style=\"text-align: right;\">\n",
       "      <th></th>\n",
       "      <th>Coefficients</th>\n",
       "    </tr>\n",
       "  </thead>\n",
       "  <tbody>\n",
       "    <tr>\n",
       "      <th>area_mean</th>\n",
       "      <td>3.103620</td>\n",
       "    </tr>\n",
       "    <tr>\n",
       "      <th>concave points_mean</th>\n",
       "      <td>2.029002</td>\n",
       "    </tr>\n",
       "    <tr>\n",
       "      <th>texture_mean</th>\n",
       "      <td>1.384317</td>\n",
       "    </tr>\n",
       "    <tr>\n",
       "      <th>smoothness_mean</th>\n",
       "      <td>0.783628</td>\n",
       "    </tr>\n",
       "    <tr>\n",
       "      <th>concavity_mean</th>\n",
       "      <td>0.589369</td>\n",
       "    </tr>\n",
       "    <tr>\n",
       "      <th>fractal_dimension_mean</th>\n",
       "      <td>-0.348289</td>\n",
       "    </tr>\n",
       "    <tr>\n",
       "      <th>symmetry_mean</th>\n",
       "      <td>0.260186</td>\n",
       "    </tr>\n",
       "    <tr>\n",
       "      <th>radius_mean</th>\n",
       "      <td>0.000000</td>\n",
       "    </tr>\n",
       "    <tr>\n",
       "      <th>perimeter_mean</th>\n",
       "      <td>0.000000</td>\n",
       "    </tr>\n",
       "    <tr>\n",
       "      <th>compactness_mean</th>\n",
       "      <td>0.000000</td>\n",
       "    </tr>\n",
       "  </tbody>\n",
       "</table>\n",
       "</div>"
      ],
      "text/plain": [
       "                        Coefficients\n",
       "area_mean                   3.103620\n",
       "concave points_mean         2.029002\n",
       "texture_mean                1.384317\n",
       "smoothness_mean             0.783628\n",
       "concavity_mean              0.589369\n",
       "fractal_dimension_mean     -0.348289\n",
       "symmetry_mean               0.260186\n",
       "radius_mean                 0.000000\n",
       "perimeter_mean              0.000000\n",
       "compactness_mean            0.000000"
      ]
     },
     "execution_count": 247,
     "metadata": {},
     "output_type": "execute_result"
    }
   ],
   "source": [
    "# Logistic Regression Coefficients\n",
    "# Get the coefficients from the logistic regression model\n",
    "logreg_coef = pd.DataFrame(bc_logreg_best.coef_, columns=X_train.columns, index=['Coefficients']).T\n",
    "# Sort the values by the absolute value of the coefficients\n",
    "logreg_coef['abs'] = logreg_coef['Coefficients'].abs()\n",
    "logreg_coef.sort_values(by='abs', ascending=False, inplace=True)\n",
    "logreg_coef.drop(columns='abs', inplace=True)\n",
    "logreg_coef"
   ]
  },
  {
   "attachments": {},
   "cell_type": "markdown",
   "id": "b2b5370b",
   "metadata": {},
   "source": [
    "From the table of coeffecients above, we can see that top 3 the most important features that allow us to identify a malignant tumor for the LR model are:\n",
    "- area_mean\n",
    "- concave_points_mean\n",
    "- texture_mean"
   ]
  },
  {
   "cell_type": "code",
   "execution_count": 248,
   "id": "d307c95a",
   "metadata": {},
   "outputs": [
    {
     "data": {
      "text/html": [
       "<div>\n",
       "<style scoped>\n",
       "    .dataframe tbody tr th:only-of-type {\n",
       "        vertical-align: middle;\n",
       "    }\n",
       "\n",
       "    .dataframe tbody tr th {\n",
       "        vertical-align: top;\n",
       "    }\n",
       "\n",
       "    .dataframe thead th {\n",
       "        text-align: right;\n",
       "    }\n",
       "</style>\n",
       "<table border=\"1\" class=\"dataframe\">\n",
       "  <thead>\n",
       "    <tr style=\"text-align: right;\">\n",
       "      <th></th>\n",
       "      <th>Importance</th>\n",
       "    </tr>\n",
       "  </thead>\n",
       "  <tbody>\n",
       "    <tr>\n",
       "      <th>concave points_mean</th>\n",
       "      <td>0.781365</td>\n",
       "    </tr>\n",
       "    <tr>\n",
       "      <th>area_mean</th>\n",
       "      <td>0.218635</td>\n",
       "    </tr>\n",
       "    <tr>\n",
       "      <th>radius_mean</th>\n",
       "      <td>0.000000</td>\n",
       "    </tr>\n",
       "    <tr>\n",
       "      <th>texture_mean</th>\n",
       "      <td>0.000000</td>\n",
       "    </tr>\n",
       "    <tr>\n",
       "      <th>perimeter_mean</th>\n",
       "      <td>0.000000</td>\n",
       "    </tr>\n",
       "    <tr>\n",
       "      <th>smoothness_mean</th>\n",
       "      <td>0.000000</td>\n",
       "    </tr>\n",
       "    <tr>\n",
       "      <th>compactness_mean</th>\n",
       "      <td>0.000000</td>\n",
       "    </tr>\n",
       "    <tr>\n",
       "      <th>concavity_mean</th>\n",
       "      <td>0.000000</td>\n",
       "    </tr>\n",
       "    <tr>\n",
       "      <th>symmetry_mean</th>\n",
       "      <td>0.000000</td>\n",
       "    </tr>\n",
       "    <tr>\n",
       "      <th>fractal_dimension_mean</th>\n",
       "      <td>0.000000</td>\n",
       "    </tr>\n",
       "  </tbody>\n",
       "</table>\n",
       "</div>"
      ],
      "text/plain": [
       "                        Importance\n",
       "concave points_mean       0.781365\n",
       "area_mean                 0.218635\n",
       "radius_mean               0.000000\n",
       "texture_mean              0.000000\n",
       "perimeter_mean            0.000000\n",
       "smoothness_mean           0.000000\n",
       "compactness_mean          0.000000\n",
       "concavity_mean            0.000000\n",
       "symmetry_mean             0.000000\n",
       "fractal_dimension_mean    0.000000"
      ]
     },
     "execution_count": 248,
     "metadata": {},
     "output_type": "execute_result"
    }
   ],
   "source": [
    "# Decision Tree Feature Importance\n",
    "# Get the feature importances from the decision tree model\n",
    "tree_importance = pd.DataFrame(bc_tree_best.feature_importances_, columns=['Importance'], index=X_train.columns)\n",
    "# Sort the values by the absolute value of the coefficients\n",
    "tree_importance['abs'] = tree_importance['Importance'].abs()\n",
    "tree_importance.sort_values(by='abs', ascending=False, inplace=True)\n",
    "tree_importance.drop(columns='abs', inplace=True)\n",
    "tree_importance"
   ]
  },
  {
   "attachments": {},
   "cell_type": "markdown",
   "id": "42f16f3c",
   "metadata": {},
   "source": [
    "In the decision tree model, we can see that the top 3 most important features are:\n",
    "- concave_points_mean\n",
    "- area_mean\n",
    "- NA\n",
    "\n",
    "Here, we see that only concave_points_mean and area_mean contribute all of the feature importance to the decision tree model. These 2 features are also found in the top 3 most important features for the logistic regression model, but the LR model has area_mean having a higher chance of impacting the prediction of a tumor status. Therefore, we can conclude that these 2 features are the most important features in predicting the tumour status."
   ]
  },
  {
   "attachments": {},
   "cell_type": "markdown",
   "id": "b9dd0898",
   "metadata": {},
   "source": [
    "**3. Principal Component Analysis Feature Selection**\n",
    "\n",
    "Here, we aim to perform feature selection using PCA, which will allow us to find which features are the most important in predicting the tumour status. We would like to choose the number of dimensions that explain at least 95% of the variance in the dataset."
   ]
  },
  {
   "cell_type": "code",
   "execution_count": 355,
   "id": "51b1a775",
   "metadata": {},
   "outputs": [],
   "source": [
    "# PCA Analysis\n",
    "from sklearn.decomposition import PCA\n",
    "\n",
    "PCA_model = PCA(n_components=0.95)\n",
    "PCA_model.fit(X_train)\n",
    "X_train_PCA = PCA_model.transform(X_train)\n",
    "X_test_PCA = PCA_model.transform(X_test)\n"
   ]
  },
  {
   "cell_type": "code",
   "execution_count": 356,
   "id": "69c3f6a7",
   "metadata": {},
   "outputs": [
    {
     "data": {
      "text/plain": [
       "5"
      ]
     },
     "execution_count": 356,
     "metadata": {},
     "output_type": "execute_result"
    }
   ],
   "source": [
    "PCA_model.n_components_"
   ]
  },
  {
   "cell_type": "code",
   "execution_count": 357,
   "id": "d1818ea6",
   "metadata": {},
   "outputs": [],
   "source": [
    "# get names of pca model, in accordance with the number of components\n",
    "PCA_names = []\n",
    "for i in range(1, PCA_model.n_components_ + 1):\n",
    "    PCA_names.append(f'PC{i}')"
   ]
  },
  {
   "cell_type": "code",
   "execution_count": 358,
   "id": "a6b2933f",
   "metadata": {},
   "outputs": [],
   "source": [
    "X_train_PCA = pd.DataFrame(X_train_PCA, columns=PCA_names)\n",
    "X_test_PCA = pd.DataFrame(X_test_PCA, columns=PCA_names)\n",
    "\n",
    "# Attach the target variable to the PCA results\n",
    "X_train_PCA['diagnosis'] = y_train.reset_index(drop=True)\n",
    "X_test_PCA['diagnosis'] = y_test.reset_index(drop=True)"
   ]
  },
  {
   "cell_type": "code",
   "execution_count": 359,
   "id": "1e307c70",
   "metadata": {},
   "outputs": [
    {
     "data": {
      "image/png": "[encoded data removed]",
      "text/plain": [
       "<Figure size 1080x360 with 1 Axes>"
      ]
     },
     "metadata": {
      "needs_background": "light"
     },
     "output_type": "display_data"
    }
   ],
   "source": [
    "# Create a color map for diagnosis\n",
    "color_map = {'M': 'red', 'B': 'blue'}\n",
    "plt.figure(figsize=(15, 5))\n",
    "\n",
    "for type in ['M', 'B']:\n",
    "    is_diagnosis = X_train_PCA['diagnosis'] == type\n",
    "    plt.scatter(X_train_PCA.loc[is_diagnosis, 'PC1'], X_train_PCA.loc[is_diagnosis, 'PC2'], \n",
    "                color=color_map[type], alpha=0.5, label=type)\n",
    "\n",
    "plt.xlabel('PC1')\n",
    "plt.ylabel('PC2')\n",
    "plt.title('Scatterplot of PC1 vs PC2')\n",
    "plt.legend()  # Automatically uses labels specified in plt.scatter\n",
    "plt.show()\n"
   ]
  },
  {
   "attachments": {},
   "cell_type": "markdown",
   "id": "e11dd5b7",
   "metadata": {},
   "source": [
    "From the scatterplot of PC1 and PC2 above, we can see that there is a clear separation between the benign and malignant tumors. We see that PC1 explains the variance greatly as the benign tumours take on lower PC1 scores, and the malignant ones have higher PC1 scores. If we look at the points along the PC2 axis, they do not show any seperation. Therefore, we can perhaps conclude the PC1 contains the most amount of variance. The variance ratio shows us that PC1 explains 54% of the variance, and PC2 explains 25% of the variance as expected given the scatterplot above. "
   ]
  },
  {
   "cell_type": "code",
   "execution_count": 360,
   "id": "1c116a59",
   "metadata": {},
   "outputs": [
    {
     "data": {
      "text/html": [
       "<div>\n",
       "<style scoped>\n",
       "    .dataframe tbody tr th:only-of-type {\n",
       "        vertical-align: middle;\n",
       "    }\n",
       "\n",
       "    .dataframe tbody tr th {\n",
       "        vertical-align: top;\n",
       "    }\n",
       "\n",
       "    .dataframe thead th {\n",
       "        text-align: right;\n",
       "    }\n",
       "</style>\n",
       "<table border=\"1\" class=\"dataframe\">\n",
       "  <thead>\n",
       "    <tr style=\"text-align: right;\">\n",
       "      <th></th>\n",
       "      <th>Explained Variance Ratio</th>\n",
       "    </tr>\n",
       "  </thead>\n",
       "  <tbody>\n",
       "    <tr>\n",
       "      <th>PC1</th>\n",
       "      <td>0.538165</td>\n",
       "    </tr>\n",
       "    <tr>\n",
       "      <th>PC2</th>\n",
       "      <td>0.253507</td>\n",
       "    </tr>\n",
       "    <tr>\n",
       "      <th>PC3</th>\n",
       "      <td>0.088867</td>\n",
       "    </tr>\n",
       "    <tr>\n",
       "      <th>PC4</th>\n",
       "      <td>0.053371</td>\n",
       "    </tr>\n",
       "    <tr>\n",
       "      <th>PC5</th>\n",
       "      <td>0.038925</td>\n",
       "    </tr>\n",
       "  </tbody>\n",
       "</table>\n",
       "</div>"
      ],
      "text/plain": [
       "     Explained Variance Ratio\n",
       "PC1                  0.538165\n",
       "PC2                  0.253507\n",
       "PC3                  0.088867\n",
       "PC4                  0.053371\n",
       "PC5                  0.038925"
      ]
     },
     "execution_count": 360,
     "metadata": {},
     "output_type": "execute_result"
    }
   ],
   "source": [
    "# Get the explained variance ratio from the PCA model\n",
    "variance_ratio = pd.DataFrame(PCA_model.explained_variance_ratio_, columns=['Explained Variance Ratio'], index=PCA_names)\n",
    "variance_ratio"
   ]
  },
  {
   "attachments": {},
   "cell_type": "markdown",
   "id": "cfbd3f6d",
   "metadata": {},
   "source": [
    "**4. PC1 and PC2 Biplots/ 5. Biplot Interpretation**\n",
    "\n",
    "From the PCA model, we have shown that the first 2 principal components explain 79% of the variance in the dataset. Therefore, we can plot a biplot of PC1 and PC2 to see which features are the most important in predicting the tumour status."
   ]
  },
  {
   "cell_type": "code",
   "execution_count": 361,
   "id": "dbd18b31",
   "metadata": {},
   "outputs": [],
   "source": [
    "# First, we need to create a function to plot the biplots\n",
    "def biplot2PC(coeff):\n",
    "    labels = coeff.index\n",
    "    for i in range(coeff.shape[0]):\n",
    "        plt.arrow(0, 0, coeff.iloc[i, 0], coeff.iloc[i, 1], head_width=0.01, color='r', alpha=0.4)\n",
    "        plt.text(coeff.iloc[i, 0]*1.05, coeff.iloc[i, 1]*1.05, labels[i], color='black', ha='center', va='center', fontsize=8)"
   ]
  },
  {
   "cell_type": "code",
   "execution_count": 370,
   "id": "70d54c4c",
   "metadata": {},
   "outputs": [
    {
     "data": {
      "image/png": "[encoded data removed]",
      "text/plain": [
       "<Figure size 720x576 with 1 Axes>"
      ]
     },
     "metadata": {
      "needs_background": "light"
     },
     "output_type": "display_data"
    }
   ],
   "source": [
    "from sklearn.preprocessing import StandardScaler\n",
    "# Biplot of the varibles and the PCA components\n",
    "\n",
    "# Get the loadings from the PCA model\n",
    "loadings = pd.DataFrame(PCA_model.components_.T, columns=PCA_names, index=X_train.columns)\n",
    "loadings\n",
    "\n",
    "# Scale the PC scores:\n",
    "PC1 = X_train_PCA['PC1']\n",
    "PC2 = X_train_PCA['PC2']\n",
    "scale_PC1 = 1.0/(PC1.max() - PC1.min()) * (PC1 - PC1.min())\n",
    "scale_PC2 = 1.0/(PC2.max() - PC2.min()) * (PC2 - PC2.min())\n",
    "\n",
    "\n",
    "plt.figure(figsize=(10, 8))\n",
    "# Create the scatterplot the plot the loadings of the PCA components\n",
    "for type in ['M', 'B']:\n",
    "    is_diagnosis = X_train_PCA['diagnosis'] == type\n",
    "    plt.scatter(X_train_PCA.loc[is_diagnosis, 'PC1'] * scale_PC1, X_train_PCA.loc[is_diagnosis, 'PC2'] * scale_PC2, \n",
    "                color=color_map[type], alpha=0.2, label=type)\n",
    "    \n",
    "# add axis lines\n",
    "plt.axhline(0, color='black', alpha=0.1)\n",
    "plt.axvline(0, color='black', alpha=0.1)\n",
    "\n",
    "biplot2PC(loadings)\n",
    "plt.xlim(-0.3, 1)\n",
    "plt.ylim(-0.4, 0.8)\n",
    "plt.xlabel('PC1')\n",
    "plt.ylabel('PC2')\n",
    "plt.title('Scatterplot of PC1 vs PC2')\n",
    "plt.legend()  # Automatically uses labels specified in plt.scatter\n",
    "plt.show()\n"
   ]
  },
  {
   "attachments": {},
   "cell_type": "markdown",
   "id": "f71b1a77",
   "metadata": {},
   "source": [
    "Looking at the scatterplot together with the biplot, we see that PC1 tackles the most variance in the dataset. We also observe that all of the variables are positively correlated to PC1, of varying degrees, where the vectors all point towards the positive side of the PC1 axis, and towards more of the malignant tumors. We can see that the features that contribute the most to PC1 are: Concave points mean, concavity mean and perimeter mean. For PC2, the features that contribute the most are: fractal dimension mean, smoothness mean and symmetry mean.\n",
    "\n",
    "To see which features are more related to tumour status, we can see that perimeter mean, area mean and radius mean are the most important features in predicting the tumour status. However, seeing that they are so closely correlated to each other, keeping one of them would be sufficient. Smoothness mean and compactness mean might also be important in predicting the tumour status.\n",
    "\n",
    "To complete our understanding of how each variable contributes to PC1 and PC2, we can look at the feature strengths in model components."
   ]
  },
  {
   "cell_type": "code",
   "execution_count": 363,
   "id": "a9054f62",
   "metadata": {},
   "outputs": [
    {
     "data": {
      "text/html": [
       "<div>\n",
       "<style scoped>\n",
       "    .dataframe tbody tr th:only-of-type {\n",
       "        vertical-align: middle;\n",
       "    }\n",
       "\n",
       "    .dataframe tbody tr th {\n",
       "        vertical-align: top;\n",
       "    }\n",
       "\n",
       "    .dataframe thead th {\n",
       "        text-align: right;\n",
       "    }\n",
       "</style>\n",
       "<table border=\"1\" class=\"dataframe\">\n",
       "  <thead>\n",
       "    <tr style=\"text-align: right;\">\n",
       "      <th></th>\n",
       "      <th>PC1</th>\n",
       "      <th>PC2</th>\n",
       "      <th>PC3</th>\n",
       "      <th>PC4</th>\n",
       "      <th>PC5</th>\n",
       "    </tr>\n",
       "  </thead>\n",
       "  <tbody>\n",
       "    <tr>\n",
       "      <th>concave points_mean</th>\n",
       "      <td>0.420834</td>\n",
       "      <td>0.017094</td>\n",
       "      <td>-0.066982</td>\n",
       "      <td>-0.070246</td>\n",
       "      <td>-0.014636</td>\n",
       "    </tr>\n",
       "    <tr>\n",
       "      <th>concavity_mean</th>\n",
       "      <td>0.395966</td>\n",
       "      <td>0.110982</td>\n",
       "      <td>0.054832</td>\n",
       "      <td>-0.188123</td>\n",
       "      <td>0.299313</td>\n",
       "    </tr>\n",
       "    <tr>\n",
       "      <th>perimeter_mean</th>\n",
       "      <td>0.381388</td>\n",
       "      <td>-0.276714</td>\n",
       "      <td>-0.119289</td>\n",
       "      <td>0.020237</td>\n",
       "      <td>-0.008159</td>\n",
       "    </tr>\n",
       "    <tr>\n",
       "      <th>radius_mean</th>\n",
       "      <td>0.369345</td>\n",
       "      <td>-0.305992</td>\n",
       "      <td>-0.130974</td>\n",
       "      <td>0.037852</td>\n",
       "      <td>-0.033071</td>\n",
       "    </tr>\n",
       "    <tr>\n",
       "      <th>area_mean</th>\n",
       "      <td>0.368316</td>\n",
       "      <td>-0.298970</td>\n",
       "      <td>-0.128965</td>\n",
       "      <td>0.020003</td>\n",
       "      <td>-0.025937</td>\n",
       "    </tr>\n",
       "    <tr>\n",
       "      <th>compactness_mean</th>\n",
       "      <td>0.364129</td>\n",
       "      <td>0.270729</td>\n",
       "      <td>0.066935</td>\n",
       "      <td>-0.189521</td>\n",
       "      <td>0.235315</td>\n",
       "    </tr>\n",
       "    <tr>\n",
       "      <th>smoothness_mean</th>\n",
       "      <td>0.215740</td>\n",
       "      <td>0.416131</td>\n",
       "      <td>-0.186609</td>\n",
       "      <td>-0.069539</td>\n",
       "      <td>-0.841014</td>\n",
       "    </tr>\n",
       "    <tr>\n",
       "      <th>symmetry_mean</th>\n",
       "      <td>0.205064</td>\n",
       "      <td>0.364969</td>\n",
       "      <td>0.064668</td>\n",
       "      <td>0.890708</td>\n",
       "      <td>0.145729</td>\n",
       "    </tr>\n",
       "    <tr>\n",
       "      <th>texture_mean</th>\n",
       "      <td>0.151007</td>\n",
       "      <td>-0.159990</td>\n",
       "      <td>0.941193</td>\n",
       "      <td>0.000966</td>\n",
       "      <td>-0.253288</td>\n",
       "    </tr>\n",
       "    <tr>\n",
       "      <th>fractal_dimension_mean</th>\n",
       "      <td>0.067771</td>\n",
       "      <td>0.567933</td>\n",
       "      <td>0.123130</td>\n",
       "      <td>-0.351165</td>\n",
       "      <td>0.245550</td>\n",
       "    </tr>\n",
       "  </tbody>\n",
       "</table>\n",
       "</div>"
      ],
      "text/plain": [
       "                             PC1       PC2       PC3       PC4       PC5\n",
       "concave points_mean     0.420834  0.017094 -0.066982 -0.070246 -0.014636\n",
       "concavity_mean          0.395966  0.110982  0.054832 -0.188123  0.299313\n",
       "perimeter_mean          0.381388 -0.276714 -0.119289  0.020237 -0.008159\n",
       "radius_mean             0.369345 -0.305992 -0.130974  0.037852 -0.033071\n",
       "area_mean               0.368316 -0.298970 -0.128965  0.020003 -0.025937\n",
       "compactness_mean        0.364129  0.270729  0.066935 -0.189521  0.235315\n",
       "smoothness_mean         0.215740  0.416131 -0.186609 -0.069539 -0.841014\n",
       "symmetry_mean           0.205064  0.364969  0.064668  0.890708  0.145729\n",
       "texture_mean            0.151007 -0.159990  0.941193  0.000966 -0.253288\n",
       "fractal_dimension_mean  0.067771  0.567933  0.123130 -0.351165  0.245550"
      ]
     },
     "execution_count": 363,
     "metadata": {},
     "output_type": "execute_result"
    }
   ],
   "source": [
    "# PC1 vs PC2 feature strength\n",
    "feature_strength = pd.DataFrame(PCA_model.components_.T, columns=PCA_names, index=X_train.columns)\n",
    "feature_strength['abs_PC1'] = feature_strength['PC1'].abs()\n",
    "feature_strength['abs_PC2'] = feature_strength['PC2'].abs()\n",
    "feature_strength.sort_values(by='abs_PC1', ascending=False, inplace=True)\n",
    "feature_strength.drop(columns=['abs_PC1', 'abs_PC2'], inplace=True)\n",
    "feature_strength"
   ]
  },
  {
   "attachments": {},
   "cell_type": "markdown",
   "id": "9c30141e",
   "metadata": {},
   "source": [
    "**6. Use the 5 Principal Components as Features in a Logistic Regression / Decision Tree Model**"
   ]
  },
  {
   "cell_type": "code",
   "execution_count": null,
   "id": "5bd83c40",
   "metadata": {},
   "outputs": [],
   "source": []
  }
 ],
 "metadata": {
  "kernelspec": {
   "display_name": "Python 3 (ipykernel)",
   "language": "python",
   "name": "python3"
  },
  "language_info": {
   "codemirror_mode": {
    "name": "ipython",
    "version": 3
   },
   "file_extension": ".py",
   "mimetype": "text/x-python",
   "name": "python",
   "nbconvert_exporter": "python",
   "pygments_lexer": "ipython3",
   "version": "3.9.7"
  }
 },
 "nbformat": 4,
 "nbformat_minor": 5
}
